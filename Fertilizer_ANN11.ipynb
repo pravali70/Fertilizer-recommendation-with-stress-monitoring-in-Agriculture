{
  "nbformat": 4,
  "nbformat_minor": 0,
  "metadata": {
    "colab": {
      "provenance": []
    },
    "kernelspec": {
      "name": "python3",
      "display_name": "Python 3"
    },
    "language_info": {
      "name": "python"
    }
  },
  "cells": [
    {
      "cell_type": "code",
      "execution_count": null,
      "metadata": {
        "id": "3FWbhjGaFFJQ"
      },
      "outputs": [],
      "source": [
        "import pandas as pd\n",
        "import numpy as np\n",
        "import matplotlib.pyplot as plt\n",
        "import seaborn as sns\n",
        "from sklearn.metrics import classification_report\n",
        "from sklearn import metrics\n",
        "from sklearn import tree\n",
        "import warnings\n",
        "warnings.filterwarnings('ignore')"
      ]
    },
    {
      "cell_type": "code",
      "source": [
        "import pandas as pd\n",
        "\n",
        "# read the CSV file\n",
        "df = pd.read_csv('/content/drive/MyDrive/Crop_recommendation.csv')\n",
        "print(df)\n"
      ],
      "metadata": {
        "colab": {
          "base_uri": "https://localhost:8080/"
        },
        "id": "3IJdAE6N6Duf",
        "outputId": "a531cbc5-ad40-4084-f3f0-076f925afa83"
      },
      "execution_count": null,
      "outputs": [
        {
          "output_type": "stream",
          "name": "stdout",
          "text": [
            "        N   P   K  temperature   humidity        ph    rainfall   label\n",
            "0      90  42  43    20.879744  82.002744  6.502985  202.935536    rice\n",
            "1      85  58  41    21.770462  80.319644  7.038096  226.655537    rice\n",
            "2      60  55  44    23.004459  82.320763  7.840207  263.964248    rice\n",
            "3      74  35  40    26.491096  80.158363  6.980401  242.864034    rice\n",
            "4      78  42  42    20.130175  81.604873  7.628473  262.717340    rice\n",
            "...   ...  ..  ..          ...        ...       ...         ...     ...\n",
            "2195  107  34  32    26.774637  66.413269  6.780064  177.774507  coffee\n",
            "2196   99  15  27    27.417112  56.636362  6.086922  127.924610  coffee\n",
            "2197  118  33  30    24.131797  67.225123  6.362608  173.322839  coffee\n",
            "2198  117  32  34    26.272418  52.127394  6.758793  127.175293  coffee\n",
            "2199  104  18  30    23.603016  60.396475  6.779833  140.937041  coffee\n",
            "\n",
            "[2200 rows x 8 columns]\n"
          ]
        }
      ]
    },
    {
      "cell_type": "code",
      "source": [
        "labels = ['rice', 'maize', 'chickpea','kidneybeans','pigeonpeas','mothbeans','mungbean','blackgram','lentil','pomegranate','banana','mango','grapes','watermelon','muskmelon','apple','orange','papaya','coconut','cotton','jute','coffee']\n",
        "\n",
        "# loop over the labels and calculate the mean for the attribute_column\n",
        "for label in labels:\n",
        "    mean_value = df.groupby('label')['N'].mean()[label]\n",
        "    print('Mean value for attribute_column with', label, ':', mean_value)\n",
        "    std_value = df.groupby('label')['N'].std()[label]\n",
        "    print('Standard deviation for attribute_column with', label, ':', std_value)\n",
        "    range=[mean_value-std_value,mean_value+std_value]\n",
        "    print(\"the range is :\",range)"
      ],
      "metadata": {
        "colab": {
          "base_uri": "https://localhost:8080/"
        },
        "id": "nQmjT_Os6DxA",
        "outputId": "14a66f71-8867-446f-d0c8-be9f0022dd8f"
      },
      "execution_count": null,
      "outputs": [
        {
          "output_type": "stream",
          "name": "stdout",
          "text": [
            "Mean value for attribute_column with rice : 79.89\n",
            "Standard deviation for attribute_column with rice : 11.917981491355107\n",
            "the range is : [67.9720185086449, 91.80798149135511]\n",
            "Mean value for attribute_column with maize : 77.76\n",
            "Standard deviation for attribute_column with maize : 11.94948965564233\n",
            "the range is : [65.81051034435768, 89.70948965564233]\n",
            "Mean value for attribute_column with chickpea : 40.09\n",
            "Standard deviation for attribute_column with chickpea : 12.150649481747172\n",
            "the range is : [27.93935051825283, 52.24064948174718]\n",
            "Mean value for attribute_column with kidneybeans : 20.75\n",
            "Standard deviation for attribute_column with kidneybeans : 10.834265694144348\n",
            "the range is : [9.915734305855652, 31.58426569414435]\n",
            "Mean value for attribute_column with pigeonpeas : 20.73\n",
            "Standard deviation for attribute_column with pigeonpeas : 11.849949921046635\n",
            "the range is : [8.880050078953365, 32.579949921046634]\n",
            "Mean value for attribute_column with mothbeans : 21.44\n",
            "Standard deviation for attribute_column with mothbeans : 11.343417973130114\n",
            "the range is : [10.096582026869887, 32.78341797313011]\n",
            "Mean value for attribute_column with mungbean : 20.99\n",
            "Standard deviation for attribute_column with mungbean : 11.510640663527312\n",
            "the range is : [9.479359336472687, 32.50064066352731]\n",
            "Mean value for attribute_column with blackgram : 40.02\n",
            "Standard deviation for attribute_column with blackgram : 12.664258144219671\n",
            "the range is : [27.35574185578033, 52.684258144219676]\n",
            "Mean value for attribute_column with lentil : 18.77\n",
            "Standard deviation for attribute_column with lentil : 12.19691549018634\n",
            "the range is : [6.573084509813659, 30.966915490186338]\n",
            "Mean value for attribute_column with pomegranate : 18.87\n",
            "Standard deviation for attribute_column with pomegranate : 12.617652377330398\n",
            "the range is : [6.252347622669603, 31.4876523773304]\n",
            "Mean value for attribute_column with banana : 100.23\n",
            "Standard deviation for attribute_column with banana : 11.107241245278152\n",
            "the range is : [89.12275875472186, 111.33724124527815]\n",
            "Mean value for attribute_column with mango : 20.07\n",
            "Standard deviation for attribute_column with mango : 12.329036925695027\n",
            "the range is : [7.7409630743049735, 32.39903692569503]\n",
            "Mean value for attribute_column with grapes : 23.18\n",
            "Standard deviation for attribute_column with grapes : 12.466828713903878\n",
            "the range is : [10.713171286096122, 35.64682871390388]\n",
            "Mean value for attribute_column with watermelon : 99.42\n",
            "Standard deviation for attribute_column with watermelon : 12.565127307052016\n",
            "the range is : [86.85487269294799, 111.98512730705201]\n",
            "Mean value for attribute_column with muskmelon : 100.32\n",
            "Standard deviation for attribute_column with muskmelon : 12.176214601435127\n",
            "the range is : [88.14378539856486, 112.49621460143513]\n",
            "Mean value for attribute_column with apple : 20.8\n",
            "Standard deviation for attribute_column with apple : 11.863704090522265\n",
            "the range is : [8.936295909477735, 32.663704090522266]\n",
            "Mean value for attribute_column with orange : 19.58\n",
            "Standard deviation for attribute_column with orange : 11.941930202848157\n",
            "the range is : [7.638069797151841, 31.521930202848154]\n",
            "Mean value for attribute_column with papaya : 49.88\n",
            "Standard deviation for attribute_column with papaya : 12.219606699022185\n",
            "the range is : [37.660393300977816, 62.09960669902219]\n",
            "Mean value for attribute_column with coconut : 21.98\n",
            "Standard deviation for attribute_column with coconut : 11.761931401901231\n",
            "the range is : [10.21806859809877, 33.74193140190123]\n",
            "Mean value for attribute_column with cotton : 117.77\n",
            "Standard deviation for attribute_column with cotton : 11.628817392125221\n",
            "the range is : [106.14118260787478, 129.3988173921252]\n",
            "Mean value for attribute_column with jute : 78.4\n",
            "Standard deviation for attribute_column with jute : 10.968273806895521\n",
            "the range is : [67.43172619310448, 89.36827380689553]\n",
            "Mean value for attribute_column with coffee : 101.2\n",
            "Standard deviation for attribute_column with coffee : 12.345203133364812\n",
            "the range is : [88.85479686663518, 113.54520313336482]\n"
          ]
        }
      ]
    },
    {
      "cell_type": "code",
      "source": [
        "labels = ['rice', 'maize', 'chickpea','kidneybeans','pigeonpeas','mothbeans','mungbean','blackgram','lentil','pomegranate','banana','mango','grapes','watermelon','muskmelon','apple','orange','papaya','coconut','cotton','jute','coffee']\n",
        "\n",
        "# loop over the labels and calculate the mean for the attribute_column\n",
        "for label in labels:\n",
        "    mean_value = df.groupby('label')['P'].mean()[label]\n",
        "    print('Mean value for attribute_column with', label, ':', mean_value)\n",
        "    std_value = df.groupby('label')['P'].std()[label]\n",
        "    print('Standard deviation for attribute_column with', label, ':', std_value)\n",
        "    range=[mean_value-std_value,mean_value+std_value]\n",
        "    print(\"the range is :\",range)"
      ],
      "metadata": {
        "colab": {
          "base_uri": "https://localhost:8080/"
        },
        "id": "YEQLVwkO6Dzn",
        "outputId": "b93a5373-0a70-4790-ffb3-c4c32ec9bbb3"
      },
      "execution_count": null,
      "outputs": [
        {
          "output_type": "stream",
          "name": "stdout",
          "text": [
            "Mean value for attribute_column with rice : 47.58\n",
            "Standard deviation for attribute_column with rice : 7.904965834744946\n",
            "the range is : [39.675034165255056, 55.48496583474494]\n",
            "Mean value for attribute_column with maize : 48.44\n",
            "Standard deviation for attribute_column with maize : 8.010498162291832\n",
            "the range is : [40.429501837708166, 56.45049816229183]\n",
            "Mean value for attribute_column with chickpea : 67.79\n",
            "Standard deviation for attribute_column with chickpea : 7.4985453134712605\n",
            "the range is : [60.291454686528745, 75.28854531347126]\n",
            "Mean value for attribute_column with kidneybeans : 67.54\n",
            "Standard deviation for attribute_column with kidneybeans : 7.571104025280338\n",
            "the range is : [59.96889597471967, 75.11110402528034]\n",
            "Mean value for attribute_column with pigeonpeas : 67.73\n",
            "Standard deviation for attribute_column with pigeonpeas : 7.294463100132313\n",
            "the range is : [60.43553689986769, 75.02446310013232]\n",
            "Mean value for attribute_column with mothbeans : 48.01\n",
            "Standard deviation for attribute_column with mothbeans : 7.547151446042072\n",
            "the range is : [40.462848553957926, 55.55715144604207]\n",
            "Mean value for attribute_column with mungbean : 47.28\n",
            "Standard deviation for attribute_column with mungbean : 7.8702611202557975\n",
            "the range is : [39.409738879744204, 55.1502611202558]\n",
            "Mean value for attribute_column with blackgram : 67.47\n",
            "Standard deviation for attribute_column with blackgram : 7.151258983598975\n",
            "the range is : [60.31874101640102, 74.62125898359898]\n",
            "Mean value for attribute_column with lentil : 68.36\n",
            "Standard deviation for attribute_column with lentil : 7.335426698460345\n",
            "the range is : [61.024573301539654, 75.69542669846034]\n",
            "Mean value for attribute_column with pomegranate : 18.75\n",
            "Standard deviation for attribute_column with pomegranate : 7.387369783842712\n",
            "the range is : [11.362630216157289, 26.13736978384271]\n",
            "Mean value for attribute_column with banana : 82.01\n",
            "Standard deviation for attribute_column with banana : 7.690338947752121\n",
            "the range is : [74.31966105224788, 89.70033894775213]\n",
            "Mean value for attribute_column with mango : 27.18\n",
            "Standard deviation for attribute_column with mango : 7.663873008795845\n",
            "the range is : [19.516126991204153, 34.843873008795846]\n",
            "Mean value for attribute_column with grapes : 132.53\n",
            "Standard deviation for attribute_column with grapes : 7.619028544348416\n",
            "the range is : [124.91097145565159, 140.14902854434843]\n",
            "Mean value for attribute_column with watermelon : 17.0\n",
            "Standard deviation for attribute_column with watermelon : 7.535773270731995\n",
            "the range is : [9.464226729268006, 24.535773270731994]\n",
            "Mean value for attribute_column with muskmelon : 17.72\n",
            "Standard deviation for attribute_column with muskmelon : 7.187362646908936\n",
            "the range is : [10.532637353091063, 24.907362646908936]\n",
            "Mean value for attribute_column with apple : 134.22\n",
            "Standard deviation for attribute_column with apple : 8.139664699122521\n",
            "the range is : [126.08033530087748, 142.35966469912253]\n",
            "Mean value for attribute_column with orange : 16.55\n",
            "Standard deviation for attribute_column with orange : 7.69149471228388\n",
            "the range is : [8.85850528771612, 24.24149471228388]\n",
            "Mean value for attribute_column with papaya : 59.05\n",
            "Standard deviation for attribute_column with papaya : 7.057305119913376\n",
            "the range is : [51.992694880086624, 66.10730511991338]\n",
            "Mean value for attribute_column with coconut : 16.93\n",
            "Standard deviation for attribute_column with coconut : 8.357244483293245\n",
            "the range is : [8.572755516706755, 25.287244483293243]\n",
            "Mean value for attribute_column with cotton : 46.24\n",
            "Standard deviation for attribute_column with cotton : 7.348634175302527\n",
            "the range is : [38.89136582469747, 53.58863417530253]\n",
            "Mean value for attribute_column with jute : 46.86\n",
            "Standard deviation for attribute_column with jute : 7.195705790134964\n",
            "the range is : [39.664294209865034, 54.055705790134965]\n",
            "Mean value for attribute_column with coffee : 28.74\n",
            "Standard deviation for attribute_column with coffee : 7.276112848342733\n",
            "the range is : [21.463887151657264, 36.01611284834273]\n"
          ]
        }
      ]
    },
    {
      "cell_type": "code",
      "source": [
        "labels = ['rice', 'maize', 'chickpea','kidneybeans','pigeonpeas','mothbeans','mungbean','blackgram','lentil','pomegranate','banana','mango','grapes','watermelon','muskmelon','apple','orange','papaya','coconut','cotton','jute','coffee']\n",
        "\n",
        "# loop over the labels and calculate the mean for the attribute_column\n",
        "for label in labels:\n",
        "    mean_value = df.groupby('label')['K'].mean()[label]\n",
        "    print('Mean value for attribute_column with', label, ':', mean_value)\n",
        "    std_value = df.groupby('label')['K'].std()[label]\n",
        "    print('Standard deviation for attribute_column with', label, ':', std_value)\n",
        "    range=[mean_value-std_value,mean_value+std_value]\n",
        "    print(\"the range is :\",range)"
      ],
      "metadata": {
        "colab": {
          "base_uri": "https://localhost:8080/"
        },
        "id": "S1l4aYi06D1x",
        "outputId": "0a3168ad-4d84-46a4-af31-b82afe1e63b5"
      },
      "execution_count": null,
      "outputs": [
        {
          "output_type": "stream",
          "name": "stdout",
          "text": [
            "Mean value for attribute_column with rice : 39.87\n",
            "Standard deviation for attribute_column with rice : 2.9461668299502297\n",
            "the range is : [36.92383317004977, 42.81616682995023]\n",
            "Mean value for attribute_column with maize : 19.79\n",
            "Standard deviation for attribute_column with maize : 2.9415003386748473\n",
            "the range is : [16.848499661325153, 22.731500338674845]\n",
            "Mean value for attribute_column with chickpea : 79.92\n",
            "Standard deviation for attribute_column with chickpea : 3.2619012860600214\n",
            "the range is : [76.65809871393998, 83.18190128606003]\n",
            "Mean value for attribute_column with kidneybeans : 20.05\n",
            "Standard deviation for attribute_column with kidneybeans : 3.10221491417622\n",
            "the range is : [16.94778508582378, 23.15221491417622]\n",
            "Mean value for attribute_column with pigeonpeas : 20.29\n",
            "Standard deviation for attribute_column with pigeonpeas : 2.8151645627123663\n",
            "the range is : [17.474835437287634, 23.105164562712364]\n",
            "Mean value for attribute_column with mothbeans : 20.23\n",
            "Standard deviation for attribute_column with mothbeans : 3.047950130825633\n",
            "the range is : [17.182049869174367, 23.277950130825634]\n",
            "Mean value for attribute_column with mungbean : 19.87\n",
            "Standard deviation for attribute_column with mungbean : 3.148368184031566\n",
            "the range is : [16.721631815968436, 23.018368184031566]\n",
            "Mean value for attribute_column with blackgram : 19.24\n",
            "Standard deviation for attribute_column with blackgram : 3.1881092208455484\n",
            "the range is : [16.05189077915445, 22.428109220845545]\n",
            "Mean value for attribute_column with lentil : 19.41\n",
            "Standard deviation for attribute_column with lentil : 2.9681644159311658\n",
            "the range is : [16.441835584068833, 22.378164415931167]\n",
            "Mean value for attribute_column with pomegranate : 40.21\n",
            "Standard deviation for attribute_column with pomegranate : 3.0328004859994966\n",
            "the range is : [37.177199514000506, 43.242800485999496]\n",
            "Mean value for attribute_column with banana : 50.05\n",
            "Standard deviation for attribute_column with banana : 3.3825906036526487\n",
            "the range is : [46.667409396347345, 53.43259060365265]\n",
            "Mean value for attribute_column with mango : 29.92\n",
            "Standard deviation for attribute_column with mango : 3.0966909677097183\n",
            "the range is : [26.823309032290283, 33.01669096770972]\n",
            "Mean value for attribute_column with grapes : 200.11\n",
            "Standard deviation for attribute_column with grapes : 3.265661564606084\n",
            "the range is : [196.84433843539392, 203.3756615646061]\n",
            "Mean value for attribute_column with watermelon : 50.22\n",
            "Standard deviation for attribute_column with watermelon : 3.2646870934565557\n",
            "the range is : [46.95531290654344, 53.48468709345656]\n",
            "Mean value for attribute_column with muskmelon : 50.08\n",
            "Standard deviation for attribute_column with muskmelon : 3.218256005536494\n",
            "the range is : [46.8617439944635, 53.298256005536494]\n",
            "Mean value for attribute_column with apple : 199.89\n",
            "Standard deviation for attribute_column with apple : 3.3208706415911147\n",
            "the range is : [196.56912935840887, 203.2108706415911]\n",
            "Mean value for attribute_column with orange : 10.01\n",
            "Standard deviation for attribute_column with orange : 3.0566866593312003\n",
            "the range is : [6.9533133406687995, 13.0666866593312]\n",
            "Mean value for attribute_column with papaya : 50.04\n",
            "Standard deviation for attribute_column with papaya : 3.0974737181037444\n",
            "the range is : [46.94252628189626, 53.13747371810374]\n",
            "Mean value for attribute_column with coconut : 30.59\n",
            "Standard deviation for attribute_column with coconut : 2.9986360535780556\n",
            "the range is : [27.591363946421943, 33.58863605357806]\n",
            "Mean value for attribute_column with cotton : 19.56\n",
            "Standard deviation for attribute_column with cotton : 3.169679587413952\n",
            "the range is : [16.390320412586046, 22.72967958741395]\n",
            "Mean value for attribute_column with jute : 39.99\n",
            "Standard deviation for attribute_column with jute : 3.313562579716425\n",
            "the range is : [36.67643742028358, 43.30356257971643]\n",
            "Mean value for attribute_column with coffee : 29.94\n",
            "Standard deviation for attribute_column with coffee : 3.2468166227580797\n",
            "the range is : [26.693183377241922, 33.18681662275808]\n"
          ]
        }
      ]
    },
    {
      "cell_type": "code",
      "source": [
        "labels = ['rice', 'maize', 'chickpea','kidneybeans','pigeonpeas','mothbeans','mungbean','blackgram','lentil','pomegranate','banana','mango','grapes','watermelon','muskmelon','apple','orange','papaya','coconut','cotton','jute','coffee']\n",
        "\n",
        "# loop over the labels and calculate the mean for the attribute_column\n",
        "for label in labels:\n",
        "    mean_value = df.groupby('label')['temperature'].mean()[label]\n",
        "    print('Mean value for attribute_column with', label, ':', mean_value)\n",
        "    std_value = df.groupby('label')['temperature'].std()[label]\n",
        "    print('Standard deviation for attribute_column with', label, ':', std_value)\n",
        "    range=[mean_value-std_value,mean_value+std_value]\n",
        "    print(\"the range is :\",range)"
      ],
      "metadata": {
        "colab": {
          "base_uri": "https://localhost:8080/"
        },
        "id": "sG6gWpH16D4A",
        "outputId": "2b331d4f-a75d-4c9b-e5aa-1b1070d3b8d6"
      },
      "execution_count": null,
      "outputs": [
        {
          "output_type": "stream",
          "name": "stdout",
          "text": [
            "Mean value for attribute_column with rice : 23.6893322105\n",
            "Standard deviation for attribute_column with rice : 2.0312719543716655\n",
            "the range is : [21.658060256128337, 25.720604164871666]\n",
            "Mean value for attribute_column with maize : 22.3892039102\n",
            "Standard deviation for attribute_column with maize : 2.6793596607331773\n",
            "the range is : [19.709844249466823, 25.068563570933176]\n",
            "Mean value for attribute_column with chickpea : 18.8728467519\n",
            "Standard deviation for attribute_column with chickpea : 1.169837791437324\n",
            "the range is : [17.703008960462675, 20.042684543337323]\n",
            "Mean value for attribute_column with kidneybeans : 20.1150846851\n",
            "Standard deviation for attribute_column with kidneybeans : 2.599572540490127\n",
            "the range is : [17.515512144609875, 22.714657225590127]\n",
            "Mean value for attribute_column with pigeonpeas : 27.7417622259\n",
            "Standard deviation for attribute_column with pigeonpeas : 5.715681957316527\n",
            "the range is : [22.026080268583474, 33.45744418321653]\n",
            "Mean value for attribute_column with mothbeans : 28.1949204842\n",
            "Standard deviation for attribute_column with mothbeans : 2.2096653967238105\n",
            "the range is : [25.98525508747619, 30.40458588092381]\n",
            "Mean value for attribute_column with mungbean : 28.5257747353\n",
            "Standard deviation for attribute_column with mungbean : 0.8415457499666631\n",
            "the range is : [27.684228985333338, 29.367320485266664]\n",
            "Mean value for attribute_column with blackgram : 29.9733396789\n",
            "Standard deviation for attribute_column with blackgram : 2.686357356937957\n",
            "the range is : [27.286982321962043, 32.65969703583796]\n",
            "Mean value for attribute_column with lentil : 24.509052402600002\n",
            "Standard deviation for attribute_column with lentil : 3.3209846940816767\n",
            "the range is : [21.188067708518325, 27.83003709668168]\n",
            "Mean value for attribute_column with pomegranate : 21.837841721999997\n",
            "Standard deviation for attribute_column with pomegranate : 2.206355498555087\n",
            "the range is : [19.63148622344491, 24.044197220555084]\n",
            "Mean value for attribute_column with banana : 27.3767983057\n",
            "Standard deviation for attribute_column with banana : 1.4283590211848072\n",
            "the range is : [25.948439284515192, 28.805157326884807]\n",
            "Mean value for attribute_column with mango : 31.2087701513\n",
            "Standard deviation for attribute_column with mango : 2.6538577400873633\n",
            "the range is : [28.554912411212637, 33.86262789138736]\n",
            "Mean value for attribute_column with grapes : 23.849575120049998\n",
            "Standard deviation for attribute_column with grapes : 9.73864872199479\n",
            "the range is : [14.110926398055208, 33.58822384204479]\n",
            "Mean value for attribute_column with watermelon : 25.591767237499997\n",
            "Standard deviation for attribute_column with watermelon : 0.8501244760334952\n",
            "the range is : [24.7416427614665, 26.441891713533494]\n",
            "Mean value for attribute_column with muskmelon : 28.663065756\n",
            "Standard deviation for attribute_column with muskmelon : 0.8612952828347412\n",
            "the range is : [27.80177047316526, 29.524361038834744]\n",
            "Mean value for attribute_column with apple : 22.6309424132\n",
            "Standard deviation for attribute_column with apple : 0.8274035169796877\n",
            "the range is : [21.803538896220314, 23.458345930179686]\n",
            "Mean value for attribute_column with orange : 22.7657254967\n",
            "Standard deviation for attribute_column with orange : 7.342534865875135\n",
            "the range is : [15.423190630824866, 30.108260362575134]\n",
            "Mean value for attribute_column with papaya : 33.7238587388\n",
            "Standard deviation for attribute_column with papaya : 6.2630221617475685\n",
            "the range is : [27.46083657705243, 39.98688090054757]\n",
            "Mean value for attribute_column with coconut : 27.4098921723\n",
            "Standard deviation for attribute_column with coconut : 1.385734451504842\n",
            "the range is : [26.02415772079516, 28.795626623804843]\n",
            "Mean value for attribute_column with cotton : 23.988957895200002\n",
            "Standard deviation for attribute_column with cotton : 1.135681479912332\n",
            "the range is : [22.85327641528767, 25.124639375112334]\n",
            "Mean value for attribute_column with jute : 24.9583758265\n",
            "Standard deviation for attribute_column with jute : 1.1851383113439444\n",
            "the range is : [23.773237515156055, 26.143514137843944]\n",
            "Mean value for attribute_column with coffee : 25.5404768193\n",
            "Standard deviation for attribute_column with coffee : 1.5026350758507534\n",
            "the range is : [24.037841743449246, 27.043111895150755]\n"
          ]
        }
      ]
    },
    {
      "cell_type": "code",
      "source": [
        "labels = ['rice', 'maize', 'chickpea','kidneybeans','pigeonpeas','mothbeans','mungbean','blackgram','lentil','pomegranate','banana','mango','grapes','watermelon','muskmelon','apple','orange','papaya','coconut','cotton','jute','coffee']\n",
        "\n",
        "# loop over the labels and calculate the mean for the attribute_column\n",
        "for label in labels:\n",
        "    mean_value = df.groupby('label')['humidity'].mean()[label]\n",
        "    print('Mean value for attribute_column with', label, ':', mean_value)\n",
        "    std_value = df.groupby('label')['humidity'].std()[label]\n",
        "    print('Standard deviation for attribute_column with', label, ':', std_value)\n",
        "    range=[mean_value-std_value,mean_value+std_value]\n",
        "    print(\"the range is :\",range)"
      ],
      "metadata": {
        "colab": {
          "base_uri": "https://localhost:8080/"
        },
        "id": "6Qd-NYH-6D6n",
        "outputId": "0d96352d-43be-440a-c423-8580e8608853"
      },
      "execution_count": null,
      "outputs": [
        {
          "output_type": "stream",
          "name": "stdout",
          "text": [
            "Mean value for attribute_column with rice : 82.2728215389\n",
            "Standard deviation for attribute_column with rice : 1.4183811592213098\n",
            "the range is : [80.85444037967869, 83.69120269812132]\n",
            "Mean value for attribute_column with maize : 65.0922494467\n",
            "Standard deviation for attribute_column with maize : 5.4486985976651825\n",
            "the range is : [59.64355084903481, 70.54094804436518]\n",
            "Mean value for attribute_column with chickpea : 16.8604394237\n",
            "Standard deviation for attribute_column with chickpea : 1.7119785494336006\n",
            "the range is : [15.1484608742664, 18.5724179731336]\n",
            "Mean value for attribute_column with kidneybeans : 21.6053567295\n",
            "Standard deviation for attribute_column with kidneybeans : 2.1673233613639007\n",
            "the range is : [19.438033368136097, 23.7726800908639]\n",
            "Mean value for attribute_column with pigeonpeas : 48.0616330847\n",
            "Standard deviation for attribute_column with pigeonpeas : 10.963658698382263\n",
            "the range is : [37.09797438631774, 59.02529178308226]\n",
            "Mean value for attribute_column with mothbeans : 53.16041802790001\n",
            "Standard deviation for attribute_column with mothbeans : 6.994600415359222\n",
            "the range is : [46.165817612540785, 60.15501844325923]\n",
            "Mean value for attribute_column with mungbean : 85.49997454300001\n",
            "Standard deviation for attribute_column with mungbean : 2.8513562351210244\n",
            "the range is : [82.64861830787898, 88.35133077812104]\n",
            "Mean value for attribute_column with blackgram : 65.1184255887\n",
            "Standard deviation for attribute_column with blackgram : 2.7983263355658288\n",
            "the range is : [62.320099253134174, 67.91675192426584]\n",
            "Mean value for attribute_column with lentil : 64.8047846785\n",
            "Standard deviation for attribute_column with lentil : 2.935461070817441\n",
            "the range is : [61.86932360768256, 67.74024574931744]\n",
            "Mean value for attribute_column with pomegranate : 90.1255037895\n",
            "Standard deviation for attribute_column with pomegranate : 2.8257064867979818\n",
            "the range is : [87.29979730270202, 92.95121027629799]\n",
            "Mean value for attribute_column with banana : 80.35812258109999\n",
            "Standard deviation for attribute_column with banana : 2.8054808335375028\n",
            "the range is : [77.55264174756249, 83.16360341463749]\n",
            "Mean value for attribute_column with mango : 50.1565726953\n",
            "Standard deviation for attribute_column with mango : 2.7562849325094296\n",
            "the range is : [47.40028776279057, 52.91285762780943]\n",
            "Mean value for attribute_column with grapes : 81.8752275212\n",
            "Standard deviation for attribute_column with grapes : 1.1771112497394787\n",
            "the range is : [80.69811627146052, 83.05233877093949]\n",
            "Mean value for attribute_column with watermelon : 85.16037529360001\n",
            "Standard deviation for attribute_column with watermelon : 2.9566030977788893\n",
            "the range is : [82.20377219582112, 88.11697839137891]\n",
            "Mean value for attribute_column with muskmelon : 92.34280196089999\n",
            "Standard deviation for attribute_column with muskmelon : 1.5051167915529067\n",
            "the range is : [90.83768516934708, 93.8479187524529]\n",
            "Mean value for attribute_column with apple : 92.3333828756\n",
            "Standard deviation for attribute_column with apple : 1.4585509882538157\n",
            "the range is : [90.87483188734618, 93.79193386385381]\n",
            "Mean value for attribute_column with orange : 92.17020876340001\n",
            "Standard deviation for attribute_column with orange : 1.4303425271320123\n",
            "the range is : [90.739866236268, 93.60055129053202]\n",
            "Mean value for attribute_column with papaya : 92.4033876826\n",
            "Standard deviation for attribute_column with papaya : 1.4204458059328475\n",
            "the range is : [90.98294187666716, 93.82383348853284]\n",
            "Mean value for attribute_column with coconut : 94.84427180610001\n",
            "Standard deviation for attribute_column with coconut : 2.68632902746591\n",
            "the range is : [92.1579427786341, 97.53060083356593]\n",
            "Mean value for attribute_column with cotton : 79.8434742538\n",
            "Standard deviation for attribute_column with cotton : 3.050955248540687\n",
            "the range is : [76.79251900525931, 82.89442950234069]\n",
            "Mean value for attribute_column with jute : 79.6398642063\n",
            "Standard deviation for attribute_column with jute : 5.50779761705286\n",
            "the range is : [74.13206658924715, 85.14766182335286]\n",
            "Mean value for attribute_column with coffee : 58.8698463003\n",
            "Standard deviation for attribute_column with coffee : 5.838565891159534\n",
            "the range is : [53.031280409140464, 64.70841219145953]\n"
          ]
        }
      ]
    },
    {
      "cell_type": "code",
      "source": [
        "labels = ['rice', 'maize', 'chickpea','kidneybeans','pigeonpeas','mothbeans','mungbean','blackgram','lentil','pomegranate','banana','mango','grapes','watermelon','muskmelon','apple','orange','papaya','coconut','cotton','jute','coffee']\n",
        "\n",
        "# loop over the labels and calculate the mean for the attribute_column\n",
        "for label in labels:\n",
        "    mean_value = df.groupby('label')['ph'].mean()[label]\n",
        "    print('Mean value for attribute_column with', label, ':', mean_value)\n",
        "    std_value = df.groupby('label')['ph'].std()[label]\n",
        "    print('Standard deviation for attribute_column with', label, ':', std_value)\n",
        "    range=[mean_value-std_value,mean_value+std_value]\n",
        "    print(\"the range is :\",range)"
      ],
      "metadata": {
        "colab": {
          "base_uri": "https://localhost:8080/"
        },
        "id": "5wKEZwCJ6D_F",
        "outputId": "b2ce1f72-aeee-4207-926c-f10908476ea6"
      },
      "execution_count": null,
      "outputs": [
        {
          "output_type": "stream",
          "name": "stdout",
          "text": [
            "Mean value for attribute_column with rice : 6.425470922140001\n",
            "Standard deviation for attribute_column with rice : 0.7686920011810565\n",
            "the range is : [5.656778920958944, 7.194162923321057]\n",
            "Mean value for attribute_column with maize : 6.2451897224\n",
            "Standard deviation for attribute_column with maize : 0.41268128727999803\n",
            "the range is : [5.832508435120002, 6.657871009679998]\n",
            "Mean value for attribute_column with chickpea : 7.33695662374\n",
            "Standard deviation for attribute_column with chickpea : 0.8011267975987482\n",
            "the range is : [6.535829826141252, 8.138083421338749]\n",
            "Mean value for attribute_column with kidneybeans : 5.749410585870001\n",
            "Standard deviation for attribute_column with kidneybeans : 0.14521966486306642\n",
            "the range is : [5.604190921006934, 5.8946302507330675]\n",
            "Mean value for attribute_column with pigeonpeas : 5.794174879790001\n",
            "Standard deviation for attribute_column with pigeonpeas : 0.8302739883761486\n",
            "the range is : [4.963900891413852, 6.62444886816615]\n",
            "Mean value for attribute_column with mothbeans : 6.83117408269\n",
            "Standard deviation for attribute_column with mothbeans : 1.8621628667627967\n",
            "the range is : [4.969011215927203, 8.693336949452796]\n",
            "Mean value for attribute_column with mungbean : 6.72395694037\n",
            "Standard deviation for attribute_column with mungbean : 0.28657442166380453\n",
            "the range is : [6.437382518706196, 7.010531362033804]\n",
            "Mean value for attribute_column with blackgram : 7.13395162948\n",
            "Standard deviation for attribute_column with blackgram : 0.37253325552504263\n",
            "the range is : [6.761418373954958, 7.506484885005043]\n",
            "Mean value for attribute_column with lentil : 6.927931571609999\n",
            "Standard deviation for attribute_column with lentil : 0.5492655929922285\n",
            "the range is : [6.378665978617771, 7.477197164602228]\n",
            "Mean value for attribute_column with pomegranate : 6.4291718411700005\n",
            "Standard deviation for attribute_column with pomegranate : 0.49150867444687557\n",
            "the range is : [5.937663166723125, 6.920680515616876]\n",
            "Mean value for attribute_column with banana : 5.98389318024\n",
            "Standard deviation for attribute_column with banana : 0.2706498328196708\n",
            "the range is : [5.713243347420329, 6.254543013059671]\n",
            "Mean value for attribute_column with mango : 5.766372799660001\n",
            "Standard deviation for attribute_column with mango : 0.7036545661204942\n",
            "the range is : [5.062718233539507, 6.470027365780495]\n",
            "Mean value for attribute_column with grapes : 6.025936681099999\n",
            "Standard deviation for attribute_column with grapes : 0.29826543594476995\n",
            "the range is : [5.727671245155229, 6.324202117044769]\n",
            "Mean value for attribute_column with watermelon : 6.49577830157\n",
            "Standard deviation for attribute_column with watermelon : 0.2814196545897993\n",
            "the range is : [6.214358646980201, 6.777197956159799]\n",
            "Mean value for attribute_column with muskmelon : 6.35880545179\n",
            "Standard deviation for attribute_column with muskmelon : 0.23152301869780662\n",
            "the range is : [6.127282433092193, 6.590328470487807]\n",
            "Mean value for attribute_column with apple : 5.929662931809999\n",
            "Standard deviation for attribute_column with apple : 0.2689315829516953\n",
            "the range is : [5.660731348858304, 6.1985945147616945]\n",
            "Mean value for attribute_column with orange : 7.01695745276\n",
            "Standard deviation for attribute_column with orange : 0.576320979011226\n",
            "the range is : [6.440636473748774, 7.593278431771226]\n",
            "Mean value for attribute_column with papaya : 6.74144237274\n",
            "Standard deviation for attribute_column with papaya : 0.14735058833009002\n",
            "the range is : [6.59409178440991, 6.88879296107009]\n",
            "Mean value for attribute_column with coconut : 5.97656212619\n",
            "Standard deviation for attribute_column with coconut : 0.2876324408982468\n",
            "the range is : [5.688929685291753, 6.264194567088247]\n",
            "Mean value for attribute_column with cotton : 6.91267549578\n",
            "Standard deviation for attribute_column with cotton : 0.6271695156348296\n",
            "the range is : [6.285505980145171, 7.53984501141483]\n",
            "Mean value for attribute_column with jute : 6.7327775681699995\n",
            "Standard deviation for attribute_column with jute : 0.4463492309437702\n",
            "the range is : [6.286428337226229, 7.17912679911377]\n",
            "Mean value for attribute_column with coffee : 6.79030827457\n",
            "Standard deviation for attribute_column with coffee : 0.4171324702056587\n",
            "the range is : [6.373175804364341, 7.207440744775659]\n"
          ]
        }
      ]
    },
    {
      "cell_type": "code",
      "source": [
        "labels = ['rice', 'maize', 'chickpea','kidneybeans','pigeonpeas','mothbeans','mungbean','blackgram','lentil','pomegranate','banana','mango','grapes','watermelon','muskmelon','apple','orange','papaya','coconut','cotton','jute','coffee']\n",
        "\n",
        "# loop over the labels and calculate the mean for the attribute_column\n",
        "for label in labels:\n",
        "    mean_value = df.groupby('label')['rainfall'].mean()[label]\n",
        "    print('Mean value for attribute_column with', label, ':', mean_value)\n",
        "    std_value = df.groupby('label')['rainfall'].std()[label]\n",
        "    print('Standard deviation for attribute_column with', label, ':', std_value)\n",
        "    range=[mean_value-std_value,mean_value+std_value]\n",
        "    print(\"the range is :\",range)"
      ],
      "metadata": {
        "colab": {
          "base_uri": "https://localhost:8080/"
        },
        "id": "Isrn58-p6EBU",
        "outputId": "203a844c-6c95-4bb9-9bb4-6e06367ae8f5"
      },
      "execution_count": null,
      "outputs": [
        {
          "output_type": "stream",
          "name": "stdout",
          "text": [
            "Mean value for attribute_column with rice : 236.181113594\n",
            "Standard deviation for attribute_column with rice : 34.29182459221108\n",
            "the range is : [201.88928900178894, 270.4729381862111]\n",
            "Mean value for attribute_column with maize : 84.766987663\n",
            "Standard deviation for attribute_column with maize : 15.547338717845903\n",
            "the range is : [69.21964894515409, 100.3143263808459]\n",
            "Mean value for attribute_column with chickpea : 80.0589772605\n",
            "Standard deviation for attribute_column with chickpea : 7.94434998936993\n",
            "the range is : [72.11462727113008, 88.00332724986993]\n",
            "Mean value for attribute_column with kidneybeans : 105.91977754210001\n",
            "Standard deviation for attribute_column with kidneybeans : 26.11138437407174\n",
            "the range is : [79.80839316802826, 132.03116191617175]\n",
            "Mean value for attribute_column with pigeonpeas : 149.4575638135\n",
            "Standard deviation for attribute_column with pigeonpeas : 32.98632092744226\n",
            "the range is : [116.47124288605775, 182.44388474094225]\n",
            "Mean value for attribute_column with mothbeans : 51.198487045700006\n",
            "Standard deviation for attribute_column with mothbeans : 13.750692670967245\n",
            "the range is : [37.44779437473276, 64.94917971666725]\n",
            "Mean value for attribute_column with mungbean : 48.403600902899996\n",
            "Standard deviation for attribute_column with mungbean : 7.117214164349768\n",
            "the range is : [41.28638673855023, 55.520815067249764]\n",
            "Mean value for attribute_column with blackgram : 67.8841511832\n",
            "Standard deviation for attribute_column with blackgram : 4.184185689548155\n",
            "the range is : [63.699965493651845, 72.06833687274816]\n",
            "Mean value for attribute_column with lentil : 45.680454204\n",
            "Standard deviation for attribute_column with lentil : 5.632972174585819\n",
            "the range is : [40.047482029414184, 51.31342637858582]\n",
            "Mean value for attribute_column with pomegranate : 107.52844239699999\n",
            "Standard deviation for attribute_column with pomegranate : 2.895339202907167\n",
            "the range is : [104.63310319409283, 110.42378159990716]\n",
            "Mean value for attribute_column with banana : 104.6269804001\n",
            "Standard deviation for attribute_column with banana : 9.398149573198245\n",
            "the range is : [95.22883082690176, 114.02512997329823]\n",
            "Mean value for attribute_column with mango : 94.70451504479999\n",
            "Standard deviation for attribute_column with mango : 3.3385773290258567\n",
            "the range is : [91.36593771577414, 98.04309237382584]\n",
            "Mean value for attribute_column with grapes : 69.611828886\n",
            "Standard deviation for attribute_column with grapes : 2.9517589946366782\n",
            "the range is : [66.66006989136332, 72.56358788063667]\n",
            "Mean value for attribute_column with watermelon : 50.7862189449\n",
            "Standard deviation for attribute_column with watermelon : 5.867006297410035\n",
            "the range is : [44.919212647489964, 56.653225242310036]\n",
            "Mean value for attribute_column with muskmelon : 24.689952066\n",
            "Standard deviation for attribute_column with muskmelon : 2.773999240744889\n",
            "the range is : [21.91595282525511, 27.46395130674489]\n",
            "Mean value for attribute_column with apple : 112.654779275\n",
            "Standard deviation for attribute_column with apple : 7.102985390718063\n",
            "the range is : [105.55179388428193, 119.75776466571806]\n",
            "Mean value for attribute_column with orange : 110.47496871999999\n",
            "Standard deviation for attribute_column with orange : 5.717125230460409\n",
            "the range is : [104.75784348953958, 116.1920939504604]\n",
            "Mean value for attribute_column with papaya : 142.6278388629\n",
            "Standard deviation for attribute_column with papaya : 64.39657725138785\n",
            "the range is : [78.23126161151215, 207.02441611428787]\n",
            "Mean value for attribute_column with coconut : 175.686645804\n",
            "Standard deviation for attribute_column with coconut : 29.47233260418663\n",
            "the range is : [146.21431319981338, 205.1589784081866]\n",
            "Mean value for attribute_column with cotton : 80.3980431193\n",
            "Standard deviation for attribute_column with cotton : 11.23181151920292\n",
            "the range is : [69.16623160009708, 91.62985463850292]\n",
            "Mean value for attribute_column with jute : 174.792797536\n",
            "Standard deviation for attribute_column with jute : 15.0783671484433\n",
            "the range is : [159.7144303875567, 189.8711646844433]\n",
            "Mean value for attribute_column with coffee : 158.066294882\n",
            "Standard deviation for attribute_column with coffee : 25.695085695484728\n",
            "the range is : [132.37120918651527, 183.76138057748472]\n"
          ]
        }
      ]
    },
    {
      "cell_type": "code",
      "source": [
        "import pandas as pd\n",
        "\n",
        "# Load the first dataset with N_min, N_max, k_min, k_max, and label columns\n",
        "df1 = pd.read_csv('/content/drive/MyDrive/Crop_recommendation.csv')\n",
        "\n",
        "# Load the second dataset with N and k columns\n",
        "df2 = pd.read_csv('/content/drive/MyDrive/def.csv')\n",
        "\n",
        "# Merge the datasets on the label column\n",
        "merged_df = pd.merge(df1, df2, on='label')\n",
        "print(merged_df)"
      ],
      "metadata": {
        "colab": {
          "base_uri": "https://localhost:8080/"
        },
        "id": "XoasWbIt6ED9",
        "outputId": "d50140f4-2c8f-4da0-ce93-38133e2b50ed"
      },
      "execution_count": null,
      "outputs": [
        {
          "output_type": "stream",
          "name": "stdout",
          "text": [
            "        N   P   K  temperature   humidity        ph    rainfall   label  \\\n",
            "0      90  42  43    20.879744  82.002744  6.502985  202.935536    rice   \n",
            "1      85  58  41    21.770462  80.319644  7.038096  226.655537    rice   \n",
            "2      60  55  44    23.004459  82.320763  7.840207  263.964248    rice   \n",
            "3      74  35  40    26.491096  80.158363  6.980401  242.864034    rice   \n",
            "4      78  42  42    20.130175  81.604873  7.628473  262.717340    rice   \n",
            "...   ...  ..  ..          ...        ...       ...         ...     ...   \n",
            "2095  107  34  32    26.774637  66.413269  6.780064  177.774507  coffee   \n",
            "2096   99  15  27    27.417112  56.636362  6.086922  127.924610  coffee   \n",
            "2097  118  33  30    24.131797  67.225123  6.362608  173.322839  coffee   \n",
            "2098  117  32  34    26.272418  52.127394  6.758793  127.175293  coffee   \n",
            "2099  104  18  30    23.603016  60.396475  6.779833  140.937041  coffee   \n",
            "\n",
            "      N_min   N_max  ...  K_min  K_max  temperature_min  temperature_max  \\\n",
            "0     67.97   91.80  ...  36.92  42.81            21.65            25.72   \n",
            "1     67.97   91.80  ...  36.92  42.81            21.65            25.72   \n",
            "2     67.97   91.80  ...  36.92  42.81            21.65            25.72   \n",
            "3     67.97   91.80  ...  36.92  42.81            21.65            25.72   \n",
            "4     67.97   91.80  ...  36.92  42.81            21.65            25.72   \n",
            "...     ...     ...  ...    ...    ...              ...              ...   \n",
            "2095  88.85  113.54  ...  26.69  33.18            24.03            27.04   \n",
            "2096  88.85  113.54  ...  26.69  33.18            24.03            27.04   \n",
            "2097  88.85  113.54  ...  26.69  33.18            24.03            27.04   \n",
            "2098  88.85  113.54  ...  26.69  33.18            24.03            27.04   \n",
            "2099  88.85  113.54  ...  26.69  33.18            24.03            27.04   \n",
            "\n",
            "      humidity_min  humidity_max  ph_min  ph_max  rainfall_min  rainfall_max  \n",
            "0            80.85         83.69    5.65    7.19        201.88        270.47  \n",
            "1            80.85         83.69    5.65    7.19        201.88        270.47  \n",
            "2            80.85         83.69    5.65    7.19        201.88        270.47  \n",
            "3            80.85         83.69    5.65    7.19        201.88        270.47  \n",
            "4            80.85         83.69    5.65    7.19        201.88        270.47  \n",
            "...            ...           ...     ...     ...           ...           ...  \n",
            "2095         53.03         64.70    6.37    7.20        132.37        183.76  \n",
            "2096         53.03         64.70    6.37    7.20        132.37        183.76  \n",
            "2097         53.03         64.70    6.37    7.20        132.37        183.76  \n",
            "2098         53.03         64.70    6.37    7.20        132.37        183.76  \n",
            "2099         53.03         64.70    6.37    7.20        132.37        183.76  \n",
            "\n",
            "[2100 rows x 22 columns]\n"
          ]
        }
      ]
    },
    {
      "cell_type": "code",
      "source": [
        "# Create a new column 'in_range' and set the value to 'Yes' if N is between N_min and N_max and k is between k_min and k_max, else set it to 'No'\n",
        "merged_df['in_range'] = merged_df.apply(lambda x: 'Healthy Crop' if (x['N_min'] <= x['N'] <= x['N_max']) and (x['K_min'] <= x['K'] <= x['K_max']) and (x['P_min'] <= x['P'] <= x['P_max'])  else 'Crop under stress', axis=1)\n",
        "print(merged_df['in_range'])"
      ],
      "metadata": {
        "colab": {
          "base_uri": "https://localhost:8080/"
        },
        "id": "ivFs9vuL6EGs",
        "outputId": "b2c4484f-bd61-49c4-bdec-31ec6d797e01"
      },
      "execution_count": null,
      "outputs": [
        {
          "output_type": "stream",
          "name": "stdout",
          "text": [
            "0       Crop under stress\n",
            "1       Crop under stress\n",
            "2       Crop under stress\n",
            "3       Crop under stress\n",
            "4            Healthy Crop\n",
            "              ...        \n",
            "2095         Healthy Crop\n",
            "2096    Crop under stress\n",
            "2097    Crop under stress\n",
            "2098    Crop under stress\n",
            "2099    Crop under stress\n",
            "Name: in_range, Length: 2100, dtype: object\n"
          ]
        }
      ]
    },
    {
      "cell_type": "code",
      "source": [
        "import pandas as pd\n",
        "\n",
        "# Load the first dataset\n",
        "df1 = pd.read_csv('/content/drive/MyDrive/Crop_recommendation.csv')\n",
        "\n",
        "# Load the second dataset\n",
        "df2 = pd.read_csv('/content/drive/MyDrive/def.csv')\n",
        "\n",
        "\n",
        "# Merge the datasets based on the common column 'label'\n",
        "merged_df = pd.merge(df1, df2, on='label')\n",
        "#print(merged_df)\n",
        "\n",
        "# Check if N and k values in second dataset are within the range of N_min, N_max, k_min, k_max in the first dataset\n",
        "mask = (merged_df['N'] >= merged_df['N_min']) & (merged_df['N'] <= merged_df['N_max']) & (merged_df['K'] >= merged_df['K_min']) & (merged_df['K'] <= merged_df['K_max']) & (merged_df['P'] >= merged_df['P_min']) & (merged_df['P'] <= merged_df['P_max'])\n",
        "\n",
        "# Add a new column 'status' to indicate if the label is healthy or stressed\n",
        "merged_df['status'] = mask.apply(lambda x: 'healthy' if x else 'stress')\n",
        "\n",
        "# Add a new column 'stress_attr' to indicate which attribute caused the stress\n",
        "stress_attr_list = []\n",
        "for i in range(len(merged_df)):\n",
        "    if mask[i]:\n",
        "        stress_attr_list.append('')\n",
        "    else:\n",
        "        stress_attr = [col for col in ['N', 'K', 'P'] if merged_df.loc[i, col] < merged_df.loc[i, col+'_min'] or merged_df.loc[i, col] > merged_df.loc[i, col+'_max']]\n",
        "        stress_attr_list.append(', '.join(stress_attr))\n",
        "merged_df['stress_attr'] = stress_attr_list\n",
        "\n",
        "# Print the result\n",
        "print(merged_df[['label','status','stress_attr']])\n"
      ],
      "metadata": {
        "colab": {
          "base_uri": "https://localhost:8080/"
        },
        "id": "Fu9vtRBP5FfM",
        "outputId": "e318bbf1-2162-4b99-a380-c5cee9f7e1cf"
      },
      "execution_count": null,
      "outputs": [
        {
          "output_type": "stream",
          "name": "stdout",
          "text": [
            "       label   status stress_attr\n",
            "0       rice   stress           K\n",
            "1       rice   stress           P\n",
            "2       rice   stress        N, K\n",
            "3       rice   stress           P\n",
            "4       rice  healthy            \n",
            "...      ...      ...         ...\n",
            "2095  coffee  healthy            \n",
            "2096  coffee   stress           P\n",
            "2097  coffee   stress           N\n",
            "2098  coffee   stress        N, K\n",
            "2099  coffee   stress           P\n",
            "\n",
            "[2100 rows x 3 columns]\n"
          ]
        }
      ]
    },
    {
      "cell_type": "markdown",
      "source": [
        "ANN"
      ],
      "metadata": {
        "id": "T2I-xX5j7Syd"
      }
    },
    {
      "cell_type": "code",
      "source": [
        "df = pd.read_csv(\"/content/drive/MyDrive/fp dataset.csv\")\n",
        "df.head()"
      ],
      "metadata": {
        "colab": {
          "base_uri": "https://localhost:8080/",
          "height": 206
        },
        "id": "_3v0dhEgFToP",
        "outputId": "15c42e5d-32e5-4638-f5ff-15900ff021aa"
      },
      "execution_count": null,
      "outputs": [
        {
          "output_type": "execute_result",
          "data": {
            "text/plain": [
              "   Temparature  Humidity  Moisture  Crop Type  Nitrogen  Potassium  \\\n",
              "0         26.0      52.0        38      Maize      37.0          0   \n",
              "1         29.0      52.0        45  Sugarcane      12.0          0   \n",
              "2         34.0      65.0        62     Cotton       7.0          9   \n",
              "3         32.0      62.0        34    Tobacco      22.0          0   \n",
              "4         28.0      54.0        46      Paddy      35.0          0   \n",
              "\n",
              "   Phosphorous Fertilizer Name  \n",
              "0            0            Urea  \n",
              "1           36             DAP  \n",
              "2           30        14-35-14  \n",
              "3           20           28-28  \n",
              "4            0            Urea  "
            ],
            "text/html": [
              "\n",
              "  <div id=\"df-4cb7751c-6a71-46e3-b9f5-f07b8bba9e06\">\n",
              "    <div class=\"colab-df-container\">\n",
              "      <div>\n",
              "<style scoped>\n",
              "    .dataframe tbody tr th:only-of-type {\n",
              "        vertical-align: middle;\n",
              "    }\n",
              "\n",
              "    .dataframe tbody tr th {\n",
              "        vertical-align: top;\n",
              "    }\n",
              "\n",
              "    .dataframe thead th {\n",
              "        text-align: right;\n",
              "    }\n",
              "</style>\n",
              "<table border=\"1\" class=\"dataframe\">\n",
              "  <thead>\n",
              "    <tr style=\"text-align: right;\">\n",
              "      <th></th>\n",
              "      <th>Temparature</th>\n",
              "      <th>Humidity</th>\n",
              "      <th>Moisture</th>\n",
              "      <th>Crop Type</th>\n",
              "      <th>Nitrogen</th>\n",
              "      <th>Potassium</th>\n",
              "      <th>Phosphorous</th>\n",
              "      <th>Fertilizer Name</th>\n",
              "    </tr>\n",
              "  </thead>\n",
              "  <tbody>\n",
              "    <tr>\n",
              "      <th>0</th>\n",
              "      <td>26.0</td>\n",
              "      <td>52.0</td>\n",
              "      <td>38</td>\n",
              "      <td>Maize</td>\n",
              "      <td>37.0</td>\n",
              "      <td>0</td>\n",
              "      <td>0</td>\n",
              "      <td>Urea</td>\n",
              "    </tr>\n",
              "    <tr>\n",
              "      <th>1</th>\n",
              "      <td>29.0</td>\n",
              "      <td>52.0</td>\n",
              "      <td>45</td>\n",
              "      <td>Sugarcane</td>\n",
              "      <td>12.0</td>\n",
              "      <td>0</td>\n",
              "      <td>36</td>\n",
              "      <td>DAP</td>\n",
              "    </tr>\n",
              "    <tr>\n",
              "      <th>2</th>\n",
              "      <td>34.0</td>\n",
              "      <td>65.0</td>\n",
              "      <td>62</td>\n",
              "      <td>Cotton</td>\n",
              "      <td>7.0</td>\n",
              "      <td>9</td>\n",
              "      <td>30</td>\n",
              "      <td>14-35-14</td>\n",
              "    </tr>\n",
              "    <tr>\n",
              "      <th>3</th>\n",
              "      <td>32.0</td>\n",
              "      <td>62.0</td>\n",
              "      <td>34</td>\n",
              "      <td>Tobacco</td>\n",
              "      <td>22.0</td>\n",
              "      <td>0</td>\n",
              "      <td>20</td>\n",
              "      <td>28-28</td>\n",
              "    </tr>\n",
              "    <tr>\n",
              "      <th>4</th>\n",
              "      <td>28.0</td>\n",
              "      <td>54.0</td>\n",
              "      <td>46</td>\n",
              "      <td>Paddy</td>\n",
              "      <td>35.0</td>\n",
              "      <td>0</td>\n",
              "      <td>0</td>\n",
              "      <td>Urea</td>\n",
              "    </tr>\n",
              "  </tbody>\n",
              "</table>\n",
              "</div>\n",
              "      <button class=\"colab-df-convert\" onclick=\"convertToInteractive('df-4cb7751c-6a71-46e3-b9f5-f07b8bba9e06')\"\n",
              "              title=\"Convert this dataframe to an interactive table.\"\n",
              "              style=\"display:none;\">\n",
              "        \n",
              "  <svg xmlns=\"http://www.w3.org/2000/svg\" height=\"24px\"viewBox=\"0 0 24 24\"\n",
              "       width=\"24px\">\n",
              "    <path d=\"M0 0h24v24H0V0z\" fill=\"none\"/>\n",
              "    <path d=\"M18.56 5.44l.94 2.06.94-2.06 2.06-.94-2.06-.94-.94-2.06-.94 2.06-2.06.94zm-11 1L8.5 8.5l.94-2.06 2.06-.94-2.06-.94L8.5 2.5l-.94 2.06-2.06.94zm10 10l.94 2.06.94-2.06 2.06-.94-2.06-.94-.94-2.06-.94 2.06-2.06.94z\"/><path d=\"M17.41 7.96l-1.37-1.37c-.4-.4-.92-.59-1.43-.59-.52 0-1.04.2-1.43.59L10.3 9.45l-7.72 7.72c-.78.78-.78 2.05 0 2.83L4 21.41c.39.39.9.59 1.41.59.51 0 1.02-.2 1.41-.59l7.78-7.78 2.81-2.81c.8-.78.8-2.07 0-2.86zM5.41 20L4 18.59l7.72-7.72 1.47 1.35L5.41 20z\"/>\n",
              "  </svg>\n",
              "      </button>\n",
              "      \n",
              "  <style>\n",
              "    .colab-df-container {\n",
              "      display:flex;\n",
              "      flex-wrap:wrap;\n",
              "      gap: 12px;\n",
              "    }\n",
              "\n",
              "    .colab-df-convert {\n",
              "      background-color: #E8F0FE;\n",
              "      border: none;\n",
              "      border-radius: 50%;\n",
              "      cursor: pointer;\n",
              "      display: none;\n",
              "      fill: #1967D2;\n",
              "      height: 32px;\n",
              "      padding: 0 0 0 0;\n",
              "      width: 32px;\n",
              "    }\n",
              "\n",
              "    .colab-df-convert:hover {\n",
              "      background-color: #E2EBFA;\n",
              "      box-shadow: 0px 1px 2px rgba(60, 64, 67, 0.3), 0px 1px 3px 1px rgba(60, 64, 67, 0.15);\n",
              "      fill: #174EA6;\n",
              "    }\n",
              "\n",
              "    [theme=dark] .colab-df-convert {\n",
              "      background-color: #3B4455;\n",
              "      fill: #D2E3FC;\n",
              "    }\n",
              "\n",
              "    [theme=dark] .colab-df-convert:hover {\n",
              "      background-color: #434B5C;\n",
              "      box-shadow: 0px 1px 3px 1px rgba(0, 0, 0, 0.15);\n",
              "      filter: drop-shadow(0px 1px 2px rgba(0, 0, 0, 0.3));\n",
              "      fill: #FFFFFF;\n",
              "    }\n",
              "  </style>\n",
              "\n",
              "      <script>\n",
              "        const buttonEl =\n",
              "          document.querySelector('#df-4cb7751c-6a71-46e3-b9f5-f07b8bba9e06 button.colab-df-convert');\n",
              "        buttonEl.style.display =\n",
              "          google.colab.kernel.accessAllowed ? 'block' : 'none';\n",
              "\n",
              "        async function convertToInteractive(key) {\n",
              "          const element = document.querySelector('#df-4cb7751c-6a71-46e3-b9f5-f07b8bba9e06');\n",
              "          const dataTable =\n",
              "            await google.colab.kernel.invokeFunction('convertToInteractive',\n",
              "                                                     [key], {});\n",
              "          if (!dataTable) return;\n",
              "\n",
              "          const docLinkHtml = 'Like what you see? Visit the ' +\n",
              "            '<a target=\"_blank\" href=https://colab.research.google.com/notebooks/data_table.ipynb>data table notebook</a>'\n",
              "            + ' to learn more about interactive tables.';\n",
              "          element.innerHTML = '';\n",
              "          dataTable['output_type'] = 'display_data';\n",
              "          await google.colab.output.renderOutput(dataTable, element);\n",
              "          const docLink = document.createElement('div');\n",
              "          docLink.innerHTML = docLinkHtml;\n",
              "          element.appendChild(docLink);\n",
              "        }\n",
              "      </script>\n",
              "    </div>\n",
              "  </div>\n",
              "  "
            ]
          },
          "metadata": {},
          "execution_count": 272
        }
      ]
    },
    {
      "cell_type": "code",
      "source": [
        "df.shape"
      ],
      "metadata": {
        "colab": {
          "base_uri": "https://localhost:8080/"
        },
        "id": "Pa4orwoYFc2G",
        "outputId": "e8c88f87-c90d-42c3-87d4-972343f49b1e"
      },
      "execution_count": null,
      "outputs": [
        {
          "output_type": "execute_result",
          "data": {
            "text/plain": [
              "(123, 8)"
            ]
          },
          "metadata": {},
          "execution_count": 273
        }
      ]
    },
    {
      "cell_type": "code",
      "source": [
        "df.columns"
      ],
      "metadata": {
        "colab": {
          "base_uri": "https://localhost:8080/"
        },
        "id": "pXFp2QtFFczP",
        "outputId": "1b6fa96d-3d86-46a9-c646-cdcd1114eada"
      },
      "execution_count": null,
      "outputs": [
        {
          "output_type": "execute_result",
          "data": {
            "text/plain": [
              "Index(['Temparature', 'Humidity', 'Moisture', 'Crop Type', 'Nitrogen',\n",
              "       'Potassium', 'Phosphorous', 'Fertilizer Name'],\n",
              "      dtype='object')"
            ]
          },
          "metadata": {},
          "execution_count": 274
        }
      ]
    },
    {
      "cell_type": "code",
      "source": [
        "df['Fertilizer Name'].unique()"
      ],
      "metadata": {
        "colab": {
          "base_uri": "https://localhost:8080/"
        },
        "id": "YbiMEfkCFcwP",
        "outputId": "2434330f-199b-40ba-fcba-fb692fe51c0a"
      },
      "execution_count": null,
      "outputs": [
        {
          "output_type": "execute_result",
          "data": {
            "text/plain": [
              "array(['Urea', 'DAP', '14-35-14', '28-28', '17-17-17', '20-20',\n",
              "       '10-26-26', 'calcium nitrate', 'Potassium chloride',\n",
              "       'Superphosphate'], dtype=object)"
            ]
          },
          "metadata": {},
          "execution_count": 275
        }
      ]
    },
    {
      "cell_type": "code",
      "source": [
        "#df['Soil Type'].unique()"
      ],
      "metadata": {
        "id": "jDkoq9p5FctX"
      },
      "execution_count": null,
      "outputs": []
    },
    {
      "cell_type": "code",
      "source": [
        "df['Crop Type'].unique()"
      ],
      "metadata": {
        "colab": {
          "base_uri": "https://localhost:8080/"
        },
        "id": "6NgzSFz7Fcp2",
        "outputId": "14889932-8756-4cd1-fa3f-d698be04b10c"
      },
      "execution_count": null,
      "outputs": [
        {
          "output_type": "execute_result",
          "data": {
            "text/plain": [
              "array(['Maize', 'Sugarcane', 'Cotton', 'Tobacco', 'Paddy', 'Barley',\n",
              "       'Wheat', 'Millets', 'Oil seeds', 'Pulses', 'Ground Nuts', 'apple',\n",
              "       'pomogranate', 'banana', 'grape', 'orange', 'coconut',\n",
              "       'pigeon peas', 'watermelon'], dtype=object)"
            ]
          },
          "metadata": {},
          "execution_count": 277
        }
      ]
    },
    {
      "cell_type": "code",
      "source": [
        "df.dtypes"
      ],
      "metadata": {
        "colab": {
          "base_uri": "https://localhost:8080/"
        },
        "id": "EsNPt9rPFcen",
        "outputId": "454bc66f-0dac-4eb0-8dad-ace58950ffaf"
      },
      "execution_count": null,
      "outputs": [
        {
          "output_type": "execute_result",
          "data": {
            "text/plain": [
              "Temparature        float64\n",
              "Humidity           float64\n",
              "Moisture             int64\n",
              "Crop Type           object\n",
              "Nitrogen           float64\n",
              "Potassium            int64\n",
              "Phosphorous          int64\n",
              "Fertilizer Name     object\n",
              "dtype: object"
            ]
          },
          "metadata": {},
          "execution_count": 278
        }
      ]
    },
    {
      "cell_type": "code",
      "source": [
        "df.describe()"
      ],
      "metadata": {
        "colab": {
          "base_uri": "https://localhost:8080/",
          "height": 300
        },
        "id": "W_8MR00XFsgJ",
        "outputId": "d92ab31f-2483-4a63-c575-2f2a11505886"
      },
      "execution_count": null,
      "outputs": [
        {
          "output_type": "execute_result",
          "data": {
            "text/plain": [
              "       Temparature    Humidity    Moisture    Nitrogen   Potassium  \\\n",
              "count   123.000000  123.000000  123.000000  123.000000  123.000000   \n",
              "mean     29.226016   62.809756   57.626016   22.311220   16.934959   \n",
              "std       4.258027   12.610790   36.279064   20.262864   42.866690   \n",
              "min      15.000000   38.000000   25.000000    4.000000    0.000000   \n",
              "25%      26.250000   54.000000   35.500000   10.000000    0.000000   \n",
              "50%      29.000000   60.000000   45.000000   14.000000    0.000000   \n",
              "75%      32.000000   65.000000   61.500000   29.000000   13.500000   \n",
              "max      38.000000   97.000000  204.000000  111.000000  202.000000   \n",
              "\n",
              "       Phosphorous  \n",
              "count   123.000000  \n",
              "mean     26.845528  \n",
              "std      30.031686  \n",
              "min       0.000000  \n",
              "25%      10.000000  \n",
              "50%      19.000000  \n",
              "75%      32.500000  \n",
              "max     145.000000  "
            ],
            "text/html": [
              "\n",
              "  <div id=\"df-40189680-4bc1-4741-b3c3-af1075545e42\">\n",
              "    <div class=\"colab-df-container\">\n",
              "      <div>\n",
              "<style scoped>\n",
              "    .dataframe tbody tr th:only-of-type {\n",
              "        vertical-align: middle;\n",
              "    }\n",
              "\n",
              "    .dataframe tbody tr th {\n",
              "        vertical-align: top;\n",
              "    }\n",
              "\n",
              "    .dataframe thead th {\n",
              "        text-align: right;\n",
              "    }\n",
              "</style>\n",
              "<table border=\"1\" class=\"dataframe\">\n",
              "  <thead>\n",
              "    <tr style=\"text-align: right;\">\n",
              "      <th></th>\n",
              "      <th>Temparature</th>\n",
              "      <th>Humidity</th>\n",
              "      <th>Moisture</th>\n",
              "      <th>Nitrogen</th>\n",
              "      <th>Potassium</th>\n",
              "      <th>Phosphorous</th>\n",
              "    </tr>\n",
              "  </thead>\n",
              "  <tbody>\n",
              "    <tr>\n",
              "      <th>count</th>\n",
              "      <td>123.000000</td>\n",
              "      <td>123.000000</td>\n",
              "      <td>123.000000</td>\n",
              "      <td>123.000000</td>\n",
              "      <td>123.000000</td>\n",
              "      <td>123.000000</td>\n",
              "    </tr>\n",
              "    <tr>\n",
              "      <th>mean</th>\n",
              "      <td>29.226016</td>\n",
              "      <td>62.809756</td>\n",
              "      <td>57.626016</td>\n",
              "      <td>22.311220</td>\n",
              "      <td>16.934959</td>\n",
              "      <td>26.845528</td>\n",
              "    </tr>\n",
              "    <tr>\n",
              "      <th>std</th>\n",
              "      <td>4.258027</td>\n",
              "      <td>12.610790</td>\n",
              "      <td>36.279064</td>\n",
              "      <td>20.262864</td>\n",
              "      <td>42.866690</td>\n",
              "      <td>30.031686</td>\n",
              "    </tr>\n",
              "    <tr>\n",
              "      <th>min</th>\n",
              "      <td>15.000000</td>\n",
              "      <td>38.000000</td>\n",
              "      <td>25.000000</td>\n",
              "      <td>4.000000</td>\n",
              "      <td>0.000000</td>\n",
              "      <td>0.000000</td>\n",
              "    </tr>\n",
              "    <tr>\n",
              "      <th>25%</th>\n",
              "      <td>26.250000</td>\n",
              "      <td>54.000000</td>\n",
              "      <td>35.500000</td>\n",
              "      <td>10.000000</td>\n",
              "      <td>0.000000</td>\n",
              "      <td>10.000000</td>\n",
              "    </tr>\n",
              "    <tr>\n",
              "      <th>50%</th>\n",
              "      <td>29.000000</td>\n",
              "      <td>60.000000</td>\n",
              "      <td>45.000000</td>\n",
              "      <td>14.000000</td>\n",
              "      <td>0.000000</td>\n",
              "      <td>19.000000</td>\n",
              "    </tr>\n",
              "    <tr>\n",
              "      <th>75%</th>\n",
              "      <td>32.000000</td>\n",
              "      <td>65.000000</td>\n",
              "      <td>61.500000</td>\n",
              "      <td>29.000000</td>\n",
              "      <td>13.500000</td>\n",
              "      <td>32.500000</td>\n",
              "    </tr>\n",
              "    <tr>\n",
              "      <th>max</th>\n",
              "      <td>38.000000</td>\n",
              "      <td>97.000000</td>\n",
              "      <td>204.000000</td>\n",
              "      <td>111.000000</td>\n",
              "      <td>202.000000</td>\n",
              "      <td>145.000000</td>\n",
              "    </tr>\n",
              "  </tbody>\n",
              "</table>\n",
              "</div>\n",
              "      <button class=\"colab-df-convert\" onclick=\"convertToInteractive('df-40189680-4bc1-4741-b3c3-af1075545e42')\"\n",
              "              title=\"Convert this dataframe to an interactive table.\"\n",
              "              style=\"display:none;\">\n",
              "        \n",
              "  <svg xmlns=\"http://www.w3.org/2000/svg\" height=\"24px\"viewBox=\"0 0 24 24\"\n",
              "       width=\"24px\">\n",
              "    <path d=\"M0 0h24v24H0V0z\" fill=\"none\"/>\n",
              "    <path d=\"M18.56 5.44l.94 2.06.94-2.06 2.06-.94-2.06-.94-.94-2.06-.94 2.06-2.06.94zm-11 1L8.5 8.5l.94-2.06 2.06-.94-2.06-.94L8.5 2.5l-.94 2.06-2.06.94zm10 10l.94 2.06.94-2.06 2.06-.94-2.06-.94-.94-2.06-.94 2.06-2.06.94z\"/><path d=\"M17.41 7.96l-1.37-1.37c-.4-.4-.92-.59-1.43-.59-.52 0-1.04.2-1.43.59L10.3 9.45l-7.72 7.72c-.78.78-.78 2.05 0 2.83L4 21.41c.39.39.9.59 1.41.59.51 0 1.02-.2 1.41-.59l7.78-7.78 2.81-2.81c.8-.78.8-2.07 0-2.86zM5.41 20L4 18.59l7.72-7.72 1.47 1.35L5.41 20z\"/>\n",
              "  </svg>\n",
              "      </button>\n",
              "      \n",
              "  <style>\n",
              "    .colab-df-container {\n",
              "      display:flex;\n",
              "      flex-wrap:wrap;\n",
              "      gap: 12px;\n",
              "    }\n",
              "\n",
              "    .colab-df-convert {\n",
              "      background-color: #E8F0FE;\n",
              "      border: none;\n",
              "      border-radius: 50%;\n",
              "      cursor: pointer;\n",
              "      display: none;\n",
              "      fill: #1967D2;\n",
              "      height: 32px;\n",
              "      padding: 0 0 0 0;\n",
              "      width: 32px;\n",
              "    }\n",
              "\n",
              "    .colab-df-convert:hover {\n",
              "      background-color: #E2EBFA;\n",
              "      box-shadow: 0px 1px 2px rgba(60, 64, 67, 0.3), 0px 1px 3px 1px rgba(60, 64, 67, 0.15);\n",
              "      fill: #174EA6;\n",
              "    }\n",
              "\n",
              "    [theme=dark] .colab-df-convert {\n",
              "      background-color: #3B4455;\n",
              "      fill: #D2E3FC;\n",
              "    }\n",
              "\n",
              "    [theme=dark] .colab-df-convert:hover {\n",
              "      background-color: #434B5C;\n",
              "      box-shadow: 0px 1px 3px 1px rgba(0, 0, 0, 0.15);\n",
              "      filter: drop-shadow(0px 1px 2px rgba(0, 0, 0, 0.3));\n",
              "      fill: #FFFFFF;\n",
              "    }\n",
              "  </style>\n",
              "\n",
              "      <script>\n",
              "        const buttonEl =\n",
              "          document.querySelector('#df-40189680-4bc1-4741-b3c3-af1075545e42 button.colab-df-convert');\n",
              "        buttonEl.style.display =\n",
              "          google.colab.kernel.accessAllowed ? 'block' : 'none';\n",
              "\n",
              "        async function convertToInteractive(key) {\n",
              "          const element = document.querySelector('#df-40189680-4bc1-4741-b3c3-af1075545e42');\n",
              "          const dataTable =\n",
              "            await google.colab.kernel.invokeFunction('convertToInteractive',\n",
              "                                                     [key], {});\n",
              "          if (!dataTable) return;\n",
              "\n",
              "          const docLinkHtml = 'Like what you see? Visit the ' +\n",
              "            '<a target=\"_blank\" href=https://colab.research.google.com/notebooks/data_table.ipynb>data table notebook</a>'\n",
              "            + ' to learn more about interactive tables.';\n",
              "          element.innerHTML = '';\n",
              "          dataTable['output_type'] = 'display_data';\n",
              "          await google.colab.output.renderOutput(dataTable, element);\n",
              "          const docLink = document.createElement('div');\n",
              "          docLink.innerHTML = docLinkHtml;\n",
              "          element.appendChild(docLink);\n",
              "        }\n",
              "      </script>\n",
              "    </div>\n",
              "  </div>\n",
              "  "
            ]
          },
          "metadata": {},
          "execution_count": 279
        }
      ]
    },
    {
      "cell_type": "code",
      "source": [
        "print(\"Number of labels: {}\".format(df['Fertilizer Name'].nunique()))\n",
        "df['Fertilizer Name'].value_counts()"
      ],
      "metadata": {
        "colab": {
          "base_uri": "https://localhost:8080/"
        },
        "id": "c2_YV9pjFsde",
        "outputId": "59d918a2-dd4e-4c4d-a5b2-3b11e76d4c66"
      },
      "execution_count": null,
      "outputs": [
        {
          "output_type": "stream",
          "name": "stdout",
          "text": [
            "Number of labels: 10\n"
          ]
        },
        {
          "output_type": "execute_result",
          "data": {
            "text/plain": [
              "Urea                  22\n",
              "DAP                   18\n",
              "28-28                 17\n",
              "14-35-14              14\n",
              "20-20                 14\n",
              "calcium nitrate        8\n",
              "Potassium chloride     8\n",
              "Superphosphate         8\n",
              "17-17-17               7\n",
              "10-26-26               7\n",
              "Name: Fertilizer Name, dtype: int64"
            ]
          },
          "metadata": {},
          "execution_count": 280
        }
      ]
    },
    {
      "cell_type": "code",
      "source": [
        "#check null values\n",
        "df.isna().sum()"
      ],
      "metadata": {
        "colab": {
          "base_uri": "https://localhost:8080/"
        },
        "id": "jtUKFN5xFsaf",
        "outputId": "9e6d769d-38f6-4bd6-9ace-44ecb5b01b23"
      },
      "execution_count": null,
      "outputs": [
        {
          "output_type": "execute_result",
          "data": {
            "text/plain": [
              "Temparature        0\n",
              "Humidity           0\n",
              "Moisture           0\n",
              "Crop Type          0\n",
              "Nitrogen           0\n",
              "Potassium          0\n",
              "Phosphorous        0\n",
              "Fertilizer Name    0\n",
              "dtype: int64"
            ]
          },
          "metadata": {},
          "execution_count": 281
        }
      ]
    },
    {
      "cell_type": "code",
      "source": [
        "#Correlation matrix\n",
        "fig, ax = plt.subplots(1, 1,figsize=(10,6))\n",
        "sns.heatmap(df.corr(), annot=True)\n",
        "ax.set(xlabel='features')\n",
        "ax.set(ylabel='features')\n",
        "\n",
        "plt.title('Correlation matrix', fontsize = 15, c='black')\n",
        "plt.show()"
      ],
      "metadata": {
        "colab": {
          "base_uri": "https://localhost:8080/",
          "height": 566
        },
        "id": "GdxGHIR1FsXW",
        "outputId": "b153dad5-cc94-449b-ca2f-6f04e2f16259"
      },
      "execution_count": null,
      "outputs": [
        {
          "output_type": "display_data",
          "data": {
            "text/plain": [
              "<Figure size 1000x600 with 2 Axes>"
            ],
            "image/png": "[encoded data removed]"
          },
          "metadata": {}
        }
      ]
    },
    {
      "cell_type": "code",
      "source": [
        "from sklearn.preprocessing import StandardScaler, LabelEncoder\n",
        "from sklearn.pipeline import make_pipeline\n",
        "from sklearn.model_selection import train_test_split"
      ],
      "metadata": {
        "id": "KioltTdiF4k1"
      },
      "execution_count": null,
      "outputs": []
    },
    {
      "cell_type": "code",
      "source": [
        "#soil_type_label_encoder = LabelEncoder()\n",
        "#df[\"Soil Type\"] = soil_type_label_encoder.fit_transform(df[\"Soil Type\"])"
      ],
      "metadata": {
        "id": "aauG1ArHF72P"
      },
      "execution_count": null,
      "outputs": []
    },
    {
      "cell_type": "code",
      "source": [
        "crop_type_label_encoder = LabelEncoder()\n",
        "df[\"Crop Type\"] = crop_type_label_encoder.fit_transform(df[\"Crop Type\"])"
      ],
      "metadata": {
        "id": "HVzF3ANqF7z-"
      },
      "execution_count": null,
      "outputs": []
    },
    {
      "cell_type": "code",
      "source": [
        "df.head()"
      ],
      "metadata": {
        "colab": {
          "base_uri": "https://localhost:8080/",
          "height": 206
        },
        "id": "__bELchcF7xb",
        "outputId": "146b2abe-97a7-4c56-9575-81303188b64a"
      },
      "execution_count": null,
      "outputs": [
        {
          "output_type": "execute_result",
          "data": {
            "text/plain": [
              "   Temparature  Humidity  Moisture  Crop Type  Nitrogen  Potassium  \\\n",
              "0         26.0      52.0        38          3      37.0          0   \n",
              "1         29.0      52.0        45          8      12.0          0   \n",
              "2         34.0      65.0        62          1       7.0          9   \n",
              "3         32.0      62.0        34          9      22.0          0   \n",
              "4         28.0      54.0        46          6      35.0          0   \n",
              "\n",
              "   Phosphorous Fertilizer Name  \n",
              "0            0            Urea  \n",
              "1           36             DAP  \n",
              "2           30        14-35-14  \n",
              "3           20           28-28  \n",
              "4            0            Urea  "
            ],
            "text/html": [
              "\n",
              "  <div id=\"df-2adb91c9-7449-497d-89b0-d6d7a745c70d\">\n",
              "    <div class=\"colab-df-container\">\n",
              "      <div>\n",
              "<style scoped>\n",
              "    .dataframe tbody tr th:only-of-type {\n",
              "        vertical-align: middle;\n",
              "    }\n",
              "\n",
              "    .dataframe tbody tr th {\n",
              "        vertical-align: top;\n",
              "    }\n",
              "\n",
              "    .dataframe thead th {\n",
              "        text-align: right;\n",
              "    }\n",
              "</style>\n",
              "<table border=\"1\" class=\"dataframe\">\n",
              "  <thead>\n",
              "    <tr style=\"text-align: right;\">\n",
              "      <th></th>\n",
              "      <th>Temparature</th>\n",
              "      <th>Humidity</th>\n",
              "      <th>Moisture</th>\n",
              "      <th>Crop Type</th>\n",
              "      <th>Nitrogen</th>\n",
              "      <th>Potassium</th>\n",
              "      <th>Phosphorous</th>\n",
              "      <th>Fertilizer Name</th>\n",
              "    </tr>\n",
              "  </thead>\n",
              "  <tbody>\n",
              "    <tr>\n",
              "      <th>0</th>\n",
              "      <td>26.0</td>\n",
              "      <td>52.0</td>\n",
              "      <td>38</td>\n",
              "      <td>3</td>\n",
              "      <td>37.0</td>\n",
              "      <td>0</td>\n",
              "      <td>0</td>\n",
              "      <td>Urea</td>\n",
              "    </tr>\n",
              "    <tr>\n",
              "      <th>1</th>\n",
              "      <td>29.0</td>\n",
              "      <td>52.0</td>\n",
              "      <td>45</td>\n",
              "      <td>8</td>\n",
              "      <td>12.0</td>\n",
              "      <td>0</td>\n",
              "      <td>36</td>\n",
              "      <td>DAP</td>\n",
              "    </tr>\n",
              "    <tr>\n",
              "      <th>2</th>\n",
              "      <td>34.0</td>\n",
              "      <td>65.0</td>\n",
              "      <td>62</td>\n",
              "      <td>1</td>\n",
              "      <td>7.0</td>\n",
              "      <td>9</td>\n",
              "      <td>30</td>\n",
              "      <td>14-35-14</td>\n",
              "    </tr>\n",
              "    <tr>\n",
              "      <th>3</th>\n",
              "      <td>32.0</td>\n",
              "      <td>62.0</td>\n",
              "      <td>34</td>\n",
              "      <td>9</td>\n",
              "      <td>22.0</td>\n",
              "      <td>0</td>\n",
              "      <td>20</td>\n",
              "      <td>28-28</td>\n",
              "    </tr>\n",
              "    <tr>\n",
              "      <th>4</th>\n",
              "      <td>28.0</td>\n",
              "      <td>54.0</td>\n",
              "      <td>46</td>\n",
              "      <td>6</td>\n",
              "      <td>35.0</td>\n",
              "      <td>0</td>\n",
              "      <td>0</td>\n",
              "      <td>Urea</td>\n",
              "    </tr>\n",
              "  </tbody>\n",
              "</table>\n",
              "</div>\n",
              "      <button class=\"colab-df-convert\" onclick=\"convertToInteractive('df-2adb91c9-7449-497d-89b0-d6d7a745c70d')\"\n",
              "              title=\"Convert this dataframe to an interactive table.\"\n",
              "              style=\"display:none;\">\n",
              "        \n",
              "  <svg xmlns=\"http://www.w3.org/2000/svg\" height=\"24px\"viewBox=\"0 0 24 24\"\n",
              "       width=\"24px\">\n",
              "    <path d=\"M0 0h24v24H0V0z\" fill=\"none\"/>\n",
              "    <path d=\"M18.56 5.44l.94 2.06.94-2.06 2.06-.94-2.06-.94-.94-2.06-.94 2.06-2.06.94zm-11 1L8.5 8.5l.94-2.06 2.06-.94-2.06-.94L8.5 2.5l-.94 2.06-2.06.94zm10 10l.94 2.06.94-2.06 2.06-.94-2.06-.94-.94-2.06-.94 2.06-2.06.94z\"/><path d=\"M17.41 7.96l-1.37-1.37c-.4-.4-.92-.59-1.43-.59-.52 0-1.04.2-1.43.59L10.3 9.45l-7.72 7.72c-.78.78-.78 2.05 0 2.83L4 21.41c.39.39.9.59 1.41.59.51 0 1.02-.2 1.41-.59l7.78-7.78 2.81-2.81c.8-.78.8-2.07 0-2.86zM5.41 20L4 18.59l7.72-7.72 1.47 1.35L5.41 20z\"/>\n",
              "  </svg>\n",
              "      </button>\n",
              "      \n",
              "  <style>\n",
              "    .colab-df-container {\n",
              "      display:flex;\n",
              "      flex-wrap:wrap;\n",
              "      gap: 12px;\n",
              "    }\n",
              "\n",
              "    .colab-df-convert {\n",
              "      background-color: #E8F0FE;\n",
              "      border: none;\n",
              "      border-radius: 50%;\n",
              "      cursor: pointer;\n",
              "      display: none;\n",
              "      fill: #1967D2;\n",
              "      height: 32px;\n",
              "      padding: 0 0 0 0;\n",
              "      width: 32px;\n",
              "    }\n",
              "\n",
              "    .colab-df-convert:hover {\n",
              "      background-color: #E2EBFA;\n",
              "      box-shadow: 0px 1px 2px rgba(60, 64, 67, 0.3), 0px 1px 3px 1px rgba(60, 64, 67, 0.15);\n",
              "      fill: #174EA6;\n",
              "    }\n",
              "\n",
              "    [theme=dark] .colab-df-convert {\n",
              "      background-color: #3B4455;\n",
              "      fill: #D2E3FC;\n",
              "    }\n",
              "\n",
              "    [theme=dark] .colab-df-convert:hover {\n",
              "      background-color: #434B5C;\n",
              "      box-shadow: 0px 1px 3px 1px rgba(0, 0, 0, 0.15);\n",
              "      filter: drop-shadow(0px 1px 2px rgba(0, 0, 0, 0.3));\n",
              "      fill: #FFFFFF;\n",
              "    }\n",
              "  </style>\n",
              "\n",
              "      <script>\n",
              "        const buttonEl =\n",
              "          document.querySelector('#df-2adb91c9-7449-497d-89b0-d6d7a745c70d button.colab-df-convert');\n",
              "        buttonEl.style.display =\n",
              "          google.colab.kernel.accessAllowed ? 'block' : 'none';\n",
              "\n",
              "        async function convertToInteractive(key) {\n",
              "          const element = document.querySelector('#df-2adb91c9-7449-497d-89b0-d6d7a745c70d');\n",
              "          const dataTable =\n",
              "            await google.colab.kernel.invokeFunction('convertToInteractive',\n",
              "                                                     [key], {});\n",
              "          if (!dataTable) return;\n",
              "\n",
              "          const docLinkHtml = 'Like what you see? Visit the ' +\n",
              "            '<a target=\"_blank\" href=https://colab.research.google.com/notebooks/data_table.ipynb>data table notebook</a>'\n",
              "            + ' to learn more about interactive tables.';\n",
              "          element.innerHTML = '';\n",
              "          dataTable['output_type'] = 'display_data';\n",
              "          await google.colab.output.renderOutput(dataTable, element);\n",
              "          const docLink = document.createElement('div');\n",
              "          docLink.innerHTML = docLinkHtml;\n",
              "          element.appendChild(docLink);\n",
              "        }\n",
              "      </script>\n",
              "    </div>\n",
              "  </div>\n",
              "  "
            ]
          },
          "metadata": {},
          "execution_count": 286
        }
      ]
    },
    {
      "cell_type": "code",
      "source": [
        "croptype_dict = {}\n",
        "for i in range(len(df[\"Crop Type\"].unique())):\n",
        "    croptype_dict[i] = crop_type_label_encoder.inverse_transform([i])[0]\n",
        "print(croptype_dict)\n",
        "\n",
        "#soiltype_dict = {}\n",
        "#for i in range(len(df[\"Soil Type\"].unique())):\n",
        "    #soiltype_dict[i] = soil_type_label_encoder.inverse_transform([i])[0]\n",
        "#print(soiltype_dict)"
      ],
      "metadata": {
        "colab": {
          "base_uri": "https://localhost:8080/"
        },
        "id": "QN-yKiyFF7ul",
        "outputId": "8cc781ae-aec4-40cb-c767-140ec7ab2d74"
      },
      "execution_count": null,
      "outputs": [
        {
          "output_type": "stream",
          "name": "stdout",
          "text": [
            "{0: 'Barley', 1: 'Cotton', 2: 'Ground Nuts', 3: 'Maize', 4: 'Millets', 5: 'Oil seeds', 6: 'Paddy', 7: 'Pulses', 8: 'Sugarcane', 9: 'Tobacco', 10: 'Wheat', 11: 'apple', 12: 'banana', 13: 'coconut', 14: 'grape', 15: 'orange', 16: 'pigeon peas', 17: 'pomogranate', 18: 'watermelon'}\n"
          ]
        }
      ]
    },
    {
      "cell_type": "code",
      "source": [
        "#Generating Matrix of Features\n",
        "X = df.iloc[:,:-1].values"
      ],
      "metadata": {
        "id": "__2P61jPF7q1"
      },
      "execution_count": null,
      "outputs": []
    },
    {
      "cell_type": "code",
      "source": [
        "#Generating Dependent Variable Vectors\n",
        "Y = df.iloc[:,-1].values"
      ],
      "metadata": {
        "id": "l1z-BSM6GL1Q"
      },
      "execution_count": null,
      "outputs": []
    },
    {
      "cell_type": "code",
      "source": [
        "from imblearn.over_sampling import SMOTE\n",
        "from collections import Counter"
      ],
      "metadata": {
        "id": "cI9s3w-qGLyc"
      },
      "execution_count": null,
      "outputs": []
    },
    {
      "cell_type": "code",
      "source": [
        "counter = Counter(Y)\n",
        "counter"
      ],
      "metadata": {
        "colab": {
          "base_uri": "https://localhost:8080/"
        },
        "id": "yiWfHmDWGLvs",
        "outputId": "ed383980-4271-4931-fc8d-13d86e79e06f"
      },
      "execution_count": null,
      "outputs": [
        {
          "output_type": "execute_result",
          "data": {
            "text/plain": [
              "Counter({'Urea': 22,\n",
              "         'DAP': 18,\n",
              "         '14-35-14': 14,\n",
              "         '28-28': 17,\n",
              "         '17-17-17': 7,\n",
              "         '20-20': 14,\n",
              "         '10-26-26': 7,\n",
              "         'calcium nitrate': 8,\n",
              "         'Potassium chloride': 8,\n",
              "         'Superphosphate': 8})"
            ]
          },
          "metadata": {},
          "execution_count": 291
        }
      ]
    },
    {
      "cell_type": "code",
      "source": [
        "upsample = SMOTE()\n",
        "X, Y = upsample.fit_resample(X, Y)\n",
        "counter = Counter(Y)\n",
        "print(counter)"
      ],
      "metadata": {
        "colab": {
          "base_uri": "https://localhost:8080/"
        },
        "id": "jMKG7vNNGUH1",
        "outputId": "28552216-9b6d-447d-db59-682a7866ce33"
      },
      "execution_count": null,
      "outputs": [
        {
          "output_type": "stream",
          "name": "stdout",
          "text": [
            "Counter({'Urea': 22, 'DAP': 22, '14-35-14': 22, '28-28': 22, '17-17-17': 22, '20-20': 22, '10-26-26': 22, 'calcium nitrate': 22, 'Potassium chloride': 22, 'Superphosphate': 22})\n"
          ]
        }
      ]
    },
    {
      "cell_type": "code",
      "source": [
        "print(f\"Total Data after Upsampling: {len(X)}\")"
      ],
      "metadata": {
        "id": "1aYdIJYlGUDN",
        "colab": {
          "base_uri": "https://localhost:8080/"
        },
        "outputId": "5c4ef6cd-a839-43ae-e1f1-279e5f75f5e2"
      },
      "execution_count": null,
      "outputs": [
        {
          "output_type": "stream",
          "name": "stdout",
          "text": [
            "Total Data after Upsampling: 220\n"
          ]
        }
      ]
    },
    {
      "cell_type": "code",
      "source": [
        "Y = Y.reshape(-1, 1) # Convert data to a single column"
      ],
      "metadata": {
        "id": "wb-z7TQSGT99"
      },
      "execution_count": null,
      "outputs": []
    },
    {
      "cell_type": "code",
      "source": [
        "print(X.shape)\n",
        "print(Y.shape)"
      ],
      "metadata": {
        "id": "t5F7TQOWGT7N",
        "colab": {
          "base_uri": "https://localhost:8080/"
        },
        "outputId": "e9126b59-2c77-4e81-d537-6d625df89f94"
      },
      "execution_count": null,
      "outputs": [
        {
          "output_type": "stream",
          "name": "stdout",
          "text": [
            "(220, 7)\n",
            "(220, 1)\n"
          ]
        }
      ]
    },
    {
      "cell_type": "code",
      "source": [
        "from sklearn.preprocessing import OneHotEncoder\n",
        "#Encoding Categorical label Species\n",
        "from sklearn.preprocessing import LabelEncoder\n",
        "encoder = OneHotEncoder(sparse=False)\n",
        "Y = encoder.fit_transform(Y)"
      ],
      "metadata": {
        "id": "Ny4zS5tzGmUt"
      },
      "execution_count": null,
      "outputs": []
    },
    {
      "cell_type": "code",
      "source": [
        "Y.shape"
      ],
      "metadata": {
        "id": "V7NAmuoIGn3w",
        "colab": {
          "base_uri": "https://localhost:8080/"
        },
        "outputId": "a08fc601-1251-4875-a29e-8ef93510b2ae"
      },
      "execution_count": null,
      "outputs": [
        {
          "output_type": "execute_result",
          "data": {
            "text/plain": [
              "(220, 10)"
            ]
          },
          "metadata": {},
          "execution_count": 297
        }
      ]
    },
    {
      "cell_type": "code",
      "source": [
        "from sklearn.preprocessing import normalize #machine learning algorithm library\n",
        "X_normalized=normalize(X,axis=0)\n",
        "print(\"Examples of X_normalised\\n\",X_normalized[:3])"
      ],
      "metadata": {
        "id": "uAAZPaqbGn0_",
        "colab": {
          "base_uri": "https://localhost:8080/"
        },
        "outputId": "6ef9b09c-4bfc-4c88-d4da-bccdfe11f6d1"
      },
      "execution_count": null,
      "outputs": [
        {
          "output_type": "stream",
          "name": "stdout",
          "text": [
            "Examples of X_normalised\n",
            " [[0.06070803 0.05292662 0.0329106  0.02176509 0.07746027 0.\n",
            "  0.        ]\n",
            " [0.0677128  0.05292662 0.03897308 0.05804025 0.02512225 0.\n",
            "  0.05354785]\n",
            " [0.07938742 0.06615828 0.05369624 0.00725503 0.01465465 0.01132713\n",
            "  0.04462321]]\n"
          ]
        }
      ]
    },
    {
      "cell_type": "code",
      "source": [
        "#Splitting dataset into training and testing dataset\n",
        "from sklearn.model_selection import train_test_split\n",
        "X_train,X_test,Y_train,Y_test = train_test_split(X,Y,test_size=0.2,random_state=32)"
      ],
      "metadata": {
        "id": "bhhkijeIGnyd"
      },
      "execution_count": null,
      "outputs": []
    },
    {
      "cell_type": "code",
      "source": [
        "import pandas as pd\n",
        "import numpy as np\n",
        "from sklearn.preprocessing import LabelEncoder\n",
        "from keras.wrappers.scikit_learn import KerasClassifier\n",
        "from keras.utils import np_utils\n",
        "from keras.utils.np_utils import to_categorical\n",
        "# Keras\n",
        "from keras.models import Sequential\n",
        "from keras.layers import Dense\n",
        "import keras.backend as K\n",
        "# Train-Test\n",
        "from sklearn.model_selection import train_test_split\n",
        "# Scaling data\n",
        "from sklearn.preprocessing import StandardScaler\n",
        "# Classification Report\n",
        "from sklearn.metrics import classification_report"
      ],
      "metadata": {
        "id": "IpHm0CpdGv2m"
      },
      "execution_count": null,
      "outputs": []
    },
    {
      "cell_type": "code",
      "source": [
        "import tensorflow as tf\n",
        "from tensorflow.keras import models, layers"
      ],
      "metadata": {
        "id": "jkOC89NxGvz-"
      },
      "execution_count": null,
      "outputs": []
    },
    {
      "cell_type": "code",
      "source": [
        "model = models.Sequential()\n",
        "model.add(layers.Dense(units=32, input_shape=(X.shape[1],),activation='relu'))\n",
        "model.add(layers.Dense(units=64,activation='relu'))\n",
        "model.add(layers.Dense(units=32,activation='relu'))\n",
        "model.add(layers.Dense(units=32,activation='relu'))\n",
        "model.add(layers.Dense(units=10,activation='softmax'))"
      ],
      "metadata": {
        "id": "r0AiCsWyGvwt"
      },
      "execution_count": null,
      "outputs": []
    },
    {
      "cell_type": "code",
      "source": [
        "model.compile(loss='categorical_crossentropy',optimizer='adam',metrics=['accuracy'])\n",
        "model.summary()"
      ],
      "metadata": {
        "id": "AItRlIS1G37U",
        "colab": {
          "base_uri": "https://localhost:8080/"
        },
        "outputId": "1cdd25a6-3331-48ec-af8f-b17cfe1f2bbd"
      },
      "execution_count": null,
      "outputs": [
        {
          "output_type": "stream",
          "name": "stdout",
          "text": [
            "Model: \"sequential_7\"\n",
            "_________________________________________________________________\n",
            " Layer (type)                Output Shape              Param #   \n",
            "=================================================================\n",
            " dense_35 (Dense)            (None, 32)                256       \n",
            "                                                                 \n",
            " dense_36 (Dense)            (None, 64)                2112      \n",
            "                                                                 \n",
            " dense_37 (Dense)            (None, 32)                2080      \n",
            "                                                                 \n",
            " dense_38 (Dense)            (None, 32)                1056      \n",
            "                                                                 \n",
            " dense_39 (Dense)            (None, 10)                330       \n",
            "                                                                 \n",
            "=================================================================\n",
            "Total params: 5,834\n",
            "Trainable params: 5,834\n",
            "Non-trainable params: 0\n",
            "_________________________________________________________________\n"
          ]
        }
      ]
    },
    {
      "cell_type": "code",
      "source": [
        "import numpy as np\n",
        "\n",
        "# Create two tensors with incompatible shapes\n",
        "tensor1 = np.random.rand(5, 10)\n",
        "tensor2 = np.random.rand(5, 7)\n",
        "\n",
        "# Reshape tensor2 by adding three columns of zeros\n",
        "tensor2 = np.hstack((tensor2, np.zeros((5, 3))))\n",
        "\n",
        "# Now the two tensors have compatible shapes\n",
        "result = tensor1 + tensor2\n",
        "print(result)"
      ],
      "metadata": {
        "colab": {
          "base_uri": "https://localhost:8080/"
        },
        "id": "ZmpQ2GPssDeo",
        "outputId": "99fcd564-7676-47eb-b11e-5c10377749d4"
      },
      "execution_count": null,
      "outputs": [
        {
          "output_type": "stream",
          "name": "stdout",
          "text": [
            "[[1.61320279 0.43422594 0.77243258 1.00095218 1.38712455 0.68314324\n",
            "  0.26745501 0.60220138 0.42079103 0.59523459]\n",
            " [0.57795584 1.38132664 1.56411341 1.06619829 0.98276329 1.42362047\n",
            "  0.9256773  0.35373292 0.49967579 0.39295184]\n",
            " [0.40225544 0.58949727 0.82820679 0.94305849 0.77192015 1.07216836\n",
            "  0.83064979 0.47971141 0.74667711 0.16980966]\n",
            " [0.95868896 1.04336593 0.99782272 1.08437066 1.44861853 1.26389257\n",
            "  1.14697156 0.71698083 0.74619246 0.94759468]\n",
            " [0.67906265 0.62002379 1.17676459 1.51474756 1.07545443 1.17137755\n",
            "  0.9988314  0.66304388 0.2675358  0.94004854]]\n"
          ]
        }
      ]
    },
    {
      "cell_type": "code",
      "source": [
        "print(tensor1.shape)\n",
        "print(tensor2.shape)"
      ],
      "metadata": {
        "colab": {
          "base_uri": "https://localhost:8080/"
        },
        "id": "2Dr1OEsAtxLf",
        "outputId": "066a17ad-48a7-432e-9622-0c1edeaccbd3"
      },
      "execution_count": null,
      "outputs": [
        {
          "output_type": "stream",
          "name": "stdout",
          "text": [
            "(5, 10)\n",
            "(5, 10)\n"
          ]
        }
      ]
    },
    {
      "cell_type": "code",
      "source": [
        "model.fit(X_train,Y_train,epochs=30,batch_size=32,validation_data=(X_test,Y_test))"
      ],
      "metadata": {
        "id": "fPn-1qZ5G34M",
        "colab": {
          "base_uri": "https://localhost:8080/"
        },
        "outputId": "94654375-40d8-42ba-d5b2-f6d1a60284ba"
      },
      "execution_count": null,
      "outputs": [
        {
          "output_type": "stream",
          "name": "stdout",
          "text": [
            "Epoch 1/30\n",
            "6/6 [==============================] - 1s 39ms/step - loss: 12.8921 - accuracy: 0.0682 - val_loss: 7.8096 - val_accuracy: 0.1136\n",
            "Epoch 2/30\n",
            "6/6 [==============================] - 0s 10ms/step - loss: 7.1444 - accuracy: 0.1023 - val_loss: 5.3820 - val_accuracy: 0.1591\n",
            "Epoch 3/30\n",
            "6/6 [==============================] - 0s 10ms/step - loss: 4.9894 - accuracy: 0.1023 - val_loss: 3.8307 - val_accuracy: 0.1364\n",
            "Epoch 4/30\n",
            "6/6 [==============================] - 0s 6ms/step - loss: 3.8620 - accuracy: 0.1875 - val_loss: 3.0486 - val_accuracy: 0.1591\n",
            "Epoch 5/30\n",
            "6/6 [==============================] - 0s 10ms/step - loss: 2.8233 - accuracy: 0.1989 - val_loss: 2.3287 - val_accuracy: 0.2273\n",
            "Epoch 6/30\n",
            "6/6 [==============================] - 0s 11ms/step - loss: 2.2787 - accuracy: 0.2670 - val_loss: 1.9937 - val_accuracy: 0.3182\n",
            "Epoch 7/30\n",
            "6/6 [==============================] - 0s 7ms/step - loss: 1.9483 - accuracy: 0.3125 - val_loss: 1.8552 - val_accuracy: 0.2727\n",
            "Epoch 8/30\n",
            "6/6 [==============================] - 0s 7ms/step - loss: 1.7201 - accuracy: 0.3523 - val_loss: 1.6068 - val_accuracy: 0.3864\n",
            "Epoch 9/30\n",
            "6/6 [==============================] - 0s 7ms/step - loss: 1.5341 - accuracy: 0.4602 - val_loss: 1.4285 - val_accuracy: 0.5227\n",
            "Epoch 10/30\n",
            "6/6 [==============================] - 0s 10ms/step - loss: 1.3636 - accuracy: 0.5398 - val_loss: 1.3302 - val_accuracy: 0.6591\n",
            "Epoch 11/30\n",
            "6/6 [==============================] - 0s 10ms/step - loss: 1.2646 - accuracy: 0.5909 - val_loss: 1.1653 - val_accuracy: 0.7045\n",
            "Epoch 12/30\n",
            "6/6 [==============================] - 0s 6ms/step - loss: 1.1587 - accuracy: 0.6818 - val_loss: 1.0729 - val_accuracy: 0.7273\n",
            "Epoch 13/30\n",
            "6/6 [==============================] - 0s 6ms/step - loss: 1.0799 - accuracy: 0.6989 - val_loss: 1.0368 - val_accuracy: 0.7045\n",
            "Epoch 14/30\n",
            "6/6 [==============================] - 0s 7ms/step - loss: 1.0035 - accuracy: 0.7386 - val_loss: 0.9699 - val_accuracy: 0.7955\n",
            "Epoch 15/30\n",
            "6/6 [==============================] - 0s 7ms/step - loss: 0.9352 - accuracy: 0.8239 - val_loss: 0.9339 - val_accuracy: 0.7500\n",
            "Epoch 16/30\n",
            "6/6 [==============================] - 0s 15ms/step - loss: 0.8610 - accuracy: 0.8409 - val_loss: 0.8636 - val_accuracy: 0.8182\n",
            "Epoch 17/30\n",
            "6/6 [==============================] - 0s 9ms/step - loss: 0.7972 - accuracy: 0.8580 - val_loss: 0.8066 - val_accuracy: 0.7727\n",
            "Epoch 18/30\n",
            "6/6 [==============================] - 0s 6ms/step - loss: 0.7326 - accuracy: 0.8750 - val_loss: 0.7781 - val_accuracy: 0.8182\n",
            "Epoch 19/30\n",
            "6/6 [==============================] - 0s 10ms/step - loss: 0.6811 - accuracy: 0.8920 - val_loss: 0.7280 - val_accuracy: 0.8409\n",
            "Epoch 20/30\n",
            "6/6 [==============================] - 0s 8ms/step - loss: 0.6390 - accuracy: 0.9034 - val_loss: 0.6635 - val_accuracy: 0.8636\n",
            "Epoch 21/30\n",
            "6/6 [==============================] - 0s 7ms/step - loss: 0.6117 - accuracy: 0.9034 - val_loss: 0.6466 - val_accuracy: 0.8636\n",
            "Epoch 22/30\n",
            "6/6 [==============================] - 0s 10ms/step - loss: 0.5468 - accuracy: 0.9205 - val_loss: 0.6374 - val_accuracy: 0.8409\n",
            "Epoch 23/30\n",
            "6/6 [==============================] - 0s 10ms/step - loss: 0.5487 - accuracy: 0.8977 - val_loss: 0.6229 - val_accuracy: 0.8636\n",
            "Epoch 24/30\n",
            "6/6 [==============================] - 0s 10ms/step - loss: 0.4854 - accuracy: 0.9148 - val_loss: 0.5932 - val_accuracy: 0.8636\n",
            "Epoch 25/30\n",
            "6/6 [==============================] - 0s 10ms/step - loss: 0.4502 - accuracy: 0.9432 - val_loss: 0.5413 - val_accuracy: 0.9091\n",
            "Epoch 26/30\n",
            "6/6 [==============================] - 0s 6ms/step - loss: 0.4245 - accuracy: 0.9261 - val_loss: 0.5464 - val_accuracy: 0.8409\n",
            "Epoch 27/30\n",
            "6/6 [==============================] - 0s 6ms/step - loss: 0.4064 - accuracy: 0.9318 - val_loss: 0.5107 - val_accuracy: 0.8636\n",
            "Epoch 28/30\n",
            "6/6 [==============================] - 0s 6ms/step - loss: 0.3773 - accuracy: 0.9432 - val_loss: 0.5036 - val_accuracy: 0.8409\n",
            "Epoch 29/30\n",
            "6/6 [==============================] - 0s 6ms/step - loss: 0.3682 - accuracy: 0.9432 - val_loss: 0.4735 - val_accuracy: 0.8409\n",
            "Epoch 30/30\n",
            "6/6 [==============================] - 0s 6ms/step - loss: 0.3372 - accuracy: 0.9318 - val_loss: 0.4824 - val_accuracy: 0.8409\n"
          ]
        },
        {
          "output_type": "execute_result",
          "data": {
            "text/plain": [
              "<keras.callbacks.History at 0x7f9af9670640>"
            ]
          },
          "metadata": {},
          "execution_count": 306
        }
      ]
    },
    {
      "cell_type": "code",
      "source": [
        "from sklearn.metrics import accuracy_score, confusion_matrix\n",
        "from sklearn.metrics import classification_report"
      ],
      "metadata": {
        "id": "adqpOqwaG30d"
      },
      "execution_count": null,
      "outputs": []
    },
    {
      "cell_type": "code",
      "source": [
        "y_pred = model.predict(X_test)\n",
        "y_pred = np.around(y_pred,0)"
      ],
      "metadata": {
        "id": "jcQ8DVzKHFd9",
        "colab": {
          "base_uri": "https://localhost:8080/"
        },
        "outputId": "ccccc2f0-92eb-44cc-9f12-af0deb5ea814"
      },
      "execution_count": null,
      "outputs": [
        {
          "output_type": "stream",
          "name": "stdout",
          "text": [
            "2/2 [==============================] - 0s 5ms/step\n"
          ]
        }
      ]
    },
    {
      "cell_type": "code",
      "source": [
        "print(\"Accuracy: \",accuracy_score(Y_test, y_pred)*100)\n",
        "\n",
        "print(\"\\nClassification report\\n\",classification_report(Y_test, y_pred))\n"
      ],
      "metadata": {
        "id": "Fk504XHZHFVF",
        "colab": {
          "base_uri": "https://localhost:8080/"
        },
        "outputId": "165c298d-2394-49fe-9171-f8555bd02626"
      },
      "execution_count": null,
      "outputs": [
        {
          "output_type": "stream",
          "name": "stdout",
          "text": [
            "Accuracy:  84.0909090909091\n",
            "\n",
            "Classification report\n",
            "               precision    recall  f1-score   support\n",
            "\n",
            "           0       1.00      1.00      1.00         3\n",
            "           1       0.80      1.00      0.89         4\n",
            "           2       1.00      1.00      1.00         2\n",
            "           3       1.00      1.00      1.00         4\n",
            "           4       1.00      1.00      1.00         3\n",
            "           5       1.00      0.75      0.86         4\n",
            "           6       0.80      0.67      0.73         6\n",
            "           7       0.50      0.33      0.40         6\n",
            "           8       1.00      1.00      1.00         7\n",
            "           9       0.71      1.00      0.83         5\n",
            "\n",
            "   micro avg       0.86      0.84      0.85        44\n",
            "   macro avg       0.88      0.88      0.87        44\n",
            "weighted avg       0.85      0.84      0.84        44\n",
            " samples avg       0.84      0.84      0.84        44\n",
            "\n"
          ]
        }
      ]
    },
    {
      "cell_type": "code",
      "source": [
        "# Load crop recommendation and fertilizer recommendation datasets\n",
        "import pandas as pd\n",
        "crop_recommendation_df = pd.read_csv('/content/drive/MyDrive/Crop_recommendation.csv')\n",
        "fertilizer_recommendation_df = pd.read_csv('/content/drive/MyDrive/fp dataset.csv')\n",
        "\n",
        "# Select the crop type from the input data (3rd row in this example)\n",
        "crop = crop_recommendation_df.iloc[2]['label']\n",
        "N_value=crop_recommendation_df.iloc[2]['N']\n",
        "tem_value=crop_recommendation_df.iloc[2]['temperature']\n",
        "\n",
        "# Find all rows in the fertilizer recommendation dataset that match the input crop\n",
        "\n",
        "matching_rows = fertilizer_recommendation_df.loc[(fertilizer_recommendation_df['Crop Type']== crop) & (fertilizer_recommendation_df['Nitrogen'] == N_value) ]\n",
        "\n",
        "# Get the recommended fertilizer from the first matching row (if any)\n",
        "if len(matching_rows) > 0:\n",
        "    recommended_fertilizer = matching_rows.iloc[0]['Fertilizer Name']\n",
        "    print(\"Recommended fertilizer for\", crop, \"is\", recommended_fertilizer)\n",
        "else:\n",
        "    print(\"No matching fertilizer recommendation found for\", crop)"
      ],
      "metadata": {
        "id": "ULLJJ_LNHFSU",
        "colab": {
          "base_uri": "https://localhost:8080/"
        },
        "outputId": "b6c7f409-0698-4ad7-d185-8f9a16576aa2"
      },
      "execution_count": null,
      "outputs": [
        {
          "output_type": "stream",
          "name": "stdout",
          "text": [
            "Recommended fertilizer for rice is Urea\n"
          ]
        }
      ]
    }
  ]
}